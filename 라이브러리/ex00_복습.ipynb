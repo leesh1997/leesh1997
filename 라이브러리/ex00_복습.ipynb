{
 "cells": [
  {
   "cell_type": "code",
   "execution_count": 2,
   "id": "16d2d0ea",
   "metadata": {},
   "outputs": [],
   "source": [
    "# 리스트 생성\n",
    "list1 = [1,2,3,4,5]"
   ]
  },
  {
   "cell_type": "code",
   "execution_count": 3,
   "id": "2a3cd013",
   "metadata": {},
   "outputs": [
    {
     "data": {
      "text/plain": [
       "2856441537408"
      ]
     },
     "execution_count": 3,
     "metadata": {},
     "output_type": "execute_result"
    }
   ],
   "source": [
    "# 리스트의 주소값 확인\n",
    "id(list1)"
   ]
  },
  {
   "cell_type": "code",
   "execution_count": 4,
   "id": "65881b93",
   "metadata": {},
   "outputs": [],
   "source": [
    "# 리스트에 값 추가\n",
    "list1.append(6)"
   ]
  },
  {
   "cell_type": "code",
   "execution_count": 5,
   "id": "abe6a34f",
   "metadata": {
    "scrolled": true
   },
   "outputs": [
    {
     "data": {
      "text/plain": [
       "2856441537408"
      ]
     },
     "execution_count": 5,
     "metadata": {},
     "output_type": "execute_result"
    }
   ],
   "source": [
    "# 리스트의 주소값 확인\n",
    "id(list1)"
   ]
  },
  {
   "cell_type": "code",
   "execution_count": 6,
   "id": "b974b773",
   "metadata": {},
   "outputs": [
    {
     "data": {
      "text/plain": [
       "2856441576896"
      ]
     },
     "execution_count": 6,
     "metadata": {},
     "output_type": "execute_result"
    }
   ],
   "source": [
    "# 리스트에 새로운 값 할당\n",
    "list1 = [1,2,3,4]\n",
    "id(list1)"
   ]
  },
  {
   "cell_type": "code",
   "execution_count": 9,
   "id": "a93a5a25",
   "metadata": {},
   "outputs": [],
   "source": [
    "# list2.append(5)\n",
    "list2.append(6)"
   ]
  },
  {
   "cell_type": "code",
   "execution_count": 7,
   "id": "c791015f",
   "metadata": {},
   "outputs": [
    {
     "data": {
      "text/plain": [
       "2856441576896"
      ]
     },
     "execution_count": 7,
     "metadata": {},
     "output_type": "execute_result"
    }
   ],
   "source": [
    "list2 = list1\n",
    "id(list2)"
   ]
  },
  {
   "cell_type": "code",
   "execution_count": 10,
   "id": "6d167cc9",
   "metadata": {},
   "outputs": [
    {
     "name": "stdout",
     "output_type": "stream",
     "text": [
      "list1 :  [1, 2, 3, 4, 5, 6]\n",
      "list2 :  [1, 2, 3, 4, 5, 6]\n"
     ]
    }
   ],
   "source": [
    "print(\"list1 : \",list1)\n",
    "print(\"list2 : \",list2)"
   ]
  },
  {
   "cell_type": "code",
   "execution_count": 11,
   "id": "dda071c3",
   "metadata": {},
   "outputs": [
    {
     "data": {
      "text/plain": [
       "2856441584064"
      ]
     },
     "execution_count": 11,
     "metadata": {},
     "output_type": "execute_result"
    }
   ],
   "source": [
    "# 다른주소로 값만 가져오기\n",
    "# .copy : 값만 가져오는 기능\n",
    "list3 = list1.copy()\n",
    "id(list3)"
   ]
  },
  {
   "cell_type": "markdown",
   "id": "68ca64c7",
   "metadata": {},
   "source": [
    "### 리스트"
   ]
  },
  {
   "cell_type": "code",
   "execution_count": null,
   "id": "1042bea5",
   "metadata": {},
   "outputs": [],
   "source": [
    "# remove, insert, pop, append, count, len, sort, 인덱싱, 슬라이싱, index ... \n",
    "# 인덱싱, 슬라이싱\n",
    "# append\n",
    "# remove"
   ]
  },
  {
   "cell_type": "code",
   "execution_count": null,
   "id": "dd739b23",
   "metadata": {},
   "outputs": [],
   "source": [
    "# 1 ~ 50까지가 담긴 리스트 생성하기\n",
    "# 반복문사용\n",
    "\n",
    "# 비어있는 리스트 생성(1부터 50까지 담을 용도)\n",
    "\n",
    "# 리스트에 값 추가"
   ]
  },
  {
   "cell_type": "code",
   "execution_count": 2,
   "id": "aa67ddf9",
   "metadata": {},
   "outputs": [
    {
     "name": "stdout",
     "output_type": "stream",
     "text": [
      "[1, 2, 3, 4, 5, 6, 7, 8, 9, 10, 11, 12, 13, 14, 15, 16, 17, 18, 19, 20, 21, 22, 23, 24, 25, 26, 27, 28, 29, 30, 31, 32, 33, 34, 35, 36, 37, 38, 39, 40, 41, 42, 43, 44, 45, 46, 47, 48, 49, 50]\n"
     ]
    }
   ],
   "source": [
    "list1 = []\n",
    "for i in range(1,51,1):\n",
    "    list1.append(i)\n",
    "    \n",
    "print(list1)"
   ]
  },
  {
   "cell_type": "code",
   "execution_count": 1,
   "id": "88873835",
   "metadata": {},
   "outputs": [
    {
     "name": "stdout",
     "output_type": "stream",
     "text": [
      "[1, 2, 3, 4, 5, 6, 7, 8, 9, 10, 11, 12, 13, 14, 15, 16, 17, 18, 19, 20, 21, 22, 23, 24, 25, 26, 27, 28, 29, 30, 31, 32, 33, 34, 35, 36, 37, 38, 39, 40, 41, 42, 43, 44, 45, 46, 47, 48, 49, 50]\n"
     ]
    }
   ],
   "source": [
    "aa=list(range(1,51,1))\n",
    "print(aa)"
   ]
  },
  {
   "cell_type": "code",
   "execution_count": 25,
   "id": "8c7152f6",
   "metadata": {},
   "outputs": [
    {
     "name": "stdout",
     "output_type": "stream",
     "text": [
      "******\n",
      "*****\n",
      "****\n",
      "***\n",
      "**\n",
      "*\n"
     ]
    }
   ],
   "source": [
    "for i in range(7,1,-1):\n",
    "    for j in range(i,1,-1):\n",
    "        print('*', end = \"\")\n",
    "    print(\"\")"
   ]
  },
  {
   "cell_type": "code",
   "execution_count": null,
   "id": "86752a69",
   "metadata": {},
   "outputs": [],
   "source": [
    "# 인덱싱 슬라이싱\n",
    "# 대괄호 []\n",
    "# 10 출력하기\n",
    "# 15 ~ 25 출력하기"
   ]
  },
  {
   "cell_type": "code",
   "execution_count": 36,
   "id": "31cda02d",
   "metadata": {},
   "outputs": [
    {
     "name": "stdout",
     "output_type": "stream",
     "text": [
      "[10]\n",
      "10\n",
      "[15, 16, 17, 18, 19, 20, 21, 22, 23, 24, 25]\n"
     ]
    }
   ],
   "source": [
    "print(aa[9:10])\n",
    "print(aa[9])\n",
    "print(aa[14:25])"
   ]
  },
  {
   "cell_type": "code",
   "execution_count": 37,
   "id": "d68c25dd",
   "metadata": {},
   "outputs": [],
   "source": [
    "# print : 원하는 위치에서 출력 가능 : 실행\n",
    "# 변수명출력 : 마지막위치에서만 출력 가능 : 출력"
   ]
  },
  {
   "cell_type": "code",
   "execution_count": 40,
   "id": "baedb1e5",
   "metadata": {},
   "outputs": [
    {
     "name": "stdout",
     "output_type": "stream",
     "text": [
      "asdf\n",
      "asdf\n"
     ]
    },
    {
     "data": {
      "text/plain": [
       "'asdf\\nasdf'"
      ]
     },
     "execution_count": 40,
     "metadata": {},
     "output_type": "execute_result"
    }
   ],
   "source": [
    "# \\n : 개행\n",
    "str1 = \"asdf\\nasdf\"\n",
    "print(str1)\n",
    "str1"
   ]
  },
  {
   "cell_type": "markdown",
   "id": "f7d39ddd",
   "metadata": {},
   "source": [
    "### 딕셔너리\n",
    "- key, value로 이루어짐\n"
   ]
  },
  {
   "cell_type": "code",
   "execution_count": null,
   "id": "4b4496f2",
   "metadata": {},
   "outputs": [],
   "source": [
    "#dic_team 변수명을 사용해서 딕셔너리 만들기\n",
    "# 이름 나이 key값 사용\n",
    "# 팀원들의 정보"
   ]
  },
  {
   "cell_type": "code",
   "execution_count": 55,
   "id": "0315742b",
   "metadata": {},
   "outputs": [
    {
     "data": {
      "text/plain": [
       "{'이름': ['이승훈', '양승호', '이동윤', '한국인', '박건하'],\n",
       " '나이': ['25', '27', '29', '29', '26']}"
      ]
     },
     "execution_count": 55,
     "metadata": {},
     "output_type": "execute_result"
    }
   ],
   "source": [
    "dic_team={'이름':['이승훈','양승호','이동윤','한국인','박건하'], '나이':['25','27','29','29','26']}\n",
    "dic_team"
   ]
  },
  {
   "cell_type": "code",
   "execution_count": null,
   "id": "0b2ae919",
   "metadata": {},
   "outputs": [],
   "source": []
  }
 ],
 "metadata": {
  "kernelspec": {
   "display_name": "Python 3 (ipykernel)",
   "language": "python",
   "name": "python3"
  },
  "language_info": {
   "codemirror_mode": {
    "name": "ipython",
    "version": 3
   },
   "file_extension": ".py",
   "mimetype": "text/x-python",
   "name": "python",
   "nbconvert_exporter": "python",
   "pygments_lexer": "ipython3",
   "version": "3.9.7"
  }
 },
 "nbformat": 4,
 "nbformat_minor": 5
}
