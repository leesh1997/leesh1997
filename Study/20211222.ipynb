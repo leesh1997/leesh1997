{
 "cells": [
  {
   "cell_type": "markdown",
   "id": "221c7e37",
   "metadata": {},
   "source": [
    "### 삼항연산자\n",
    "- a if 조건식 else b"
   ]
  },
  {
   "cell_type": "code",
   "execution_count": 2,
   "id": "2521dd74",
   "metadata": {},
   "outputs": [
    {
     "data": {
      "text/plain": [
       "'합격'"
      ]
     },
     "execution_count": 2,
     "metadata": {},
     "output_type": "execute_result"
    }
   ],
   "source": [
    "score = 80\n",
    "'합격' if score >= 60 else '불합격'"
   ]
  },
  {
   "cell_type": "code",
   "execution_count": 3,
   "id": "f0f75c6a",
   "metadata": {},
   "outputs": [
    {
     "ename": "KeyboardInterrupt",
     "evalue": "Interrupted by user",
     "output_type": "error",
     "traceback": [
      "\u001b[1;31m---------------------------------------------------------------------------\u001b[0m",
      "\u001b[1;31mKeyboardInterrupt\u001b[0m                         Traceback (most recent call last)",
      "\u001b[1;32m~\\AppData\\Local\\Temp/ipykernel_14104/2002234020.py\u001b[0m in \u001b[0;36m<module>\u001b[1;34m\u001b[0m\n\u001b[1;32m----> 1\u001b[1;33m \u001b[0ma\u001b[0m \u001b[1;33m=\u001b[0m \u001b[0mint\u001b[0m\u001b[1;33m(\u001b[0m\u001b[0minput\u001b[0m\u001b[1;33m(\u001b[0m\u001b[1;34m\"정수입력 >> \"\u001b[0m\u001b[1;33m)\u001b[0m\u001b[1;33m)\u001b[0m\u001b[1;33m\u001b[0m\u001b[1;33m\u001b[0m\u001b[0m\n\u001b[0m\u001b[0;32m      2\u001b[0m \u001b[0mb\u001b[0m \u001b[1;33m=\u001b[0m \u001b[0mint\u001b[0m\u001b[1;33m(\u001b[0m\u001b[0minput\u001b[0m\u001b[1;33m(\u001b[0m\u001b[1;34m\"정수입력 >> \"\u001b[0m\u001b[1;33m)\u001b[0m\u001b[1;33m)\u001b[0m\u001b[1;33m\u001b[0m\u001b[1;33m\u001b[0m\u001b[0m\n\u001b[0;32m      3\u001b[0m \u001b[0ma\u001b[0m \u001b[1;32mif\u001b[0m \u001b[0ma\u001b[0m \u001b[1;33m>=\u001b[0m \u001b[0mb\u001b[0m \u001b[1;32melse\u001b[0m \u001b[0mb\u001b[0m\u001b[1;33m\u001b[0m\u001b[1;33m\u001b[0m\u001b[0m\n\u001b[0;32m      4\u001b[0m \u001b[1;34m'큰수는 a = %d'\u001b[0m\u001b[1;33m%\u001b[0m\u001b[1;33m(\u001b[0m\u001b[0ma\u001b[0m\u001b[1;33m)\u001b[0m \u001b[1;32mif\u001b[0m \u001b[0ma\u001b[0m\u001b[1;33m>=\u001b[0m\u001b[0mb\u001b[0m \u001b[1;32melse\u001b[0m \u001b[1;34m'큰수는 b = %d'\u001b[0m\u001b[1;33m%\u001b[0m\u001b[1;33m(\u001b[0m\u001b[0mb\u001b[0m\u001b[1;33m)\u001b[0m\u001b[1;33m\u001b[0m\u001b[1;33m\u001b[0m\u001b[0m\n",
      "\u001b[1;32m~\\anaconda3\\lib\\site-packages\\ipykernel\\kernelbase.py\u001b[0m in \u001b[0;36mraw_input\u001b[1;34m(self, prompt)\u001b[0m\n\u001b[0;32m   1004\u001b[0m                 \u001b[1;34m\"raw_input was called, but this frontend does not support input requests.\"\u001b[0m\u001b[1;33m\u001b[0m\u001b[1;33m\u001b[0m\u001b[0m\n\u001b[0;32m   1005\u001b[0m             )\n\u001b[1;32m-> 1006\u001b[1;33m         return self._input_request(\n\u001b[0m\u001b[0;32m   1007\u001b[0m             \u001b[0mstr\u001b[0m\u001b[1;33m(\u001b[0m\u001b[0mprompt\u001b[0m\u001b[1;33m)\u001b[0m\u001b[1;33m,\u001b[0m\u001b[1;33m\u001b[0m\u001b[1;33m\u001b[0m\u001b[0m\n\u001b[0;32m   1008\u001b[0m             \u001b[0mself\u001b[0m\u001b[1;33m.\u001b[0m\u001b[0m_parent_ident\u001b[0m\u001b[1;33m[\u001b[0m\u001b[1;34m\"shell\"\u001b[0m\u001b[1;33m]\u001b[0m\u001b[1;33m,\u001b[0m\u001b[1;33m\u001b[0m\u001b[1;33m\u001b[0m\u001b[0m\n",
      "\u001b[1;32m~\\anaconda3\\lib\\site-packages\\ipykernel\\kernelbase.py\u001b[0m in \u001b[0;36m_input_request\u001b[1;34m(self, prompt, ident, parent, password)\u001b[0m\n\u001b[0;32m   1049\u001b[0m             \u001b[1;32mexcept\u001b[0m \u001b[0mKeyboardInterrupt\u001b[0m\u001b[1;33m:\u001b[0m\u001b[1;33m\u001b[0m\u001b[1;33m\u001b[0m\u001b[0m\n\u001b[0;32m   1050\u001b[0m                 \u001b[1;31m# re-raise KeyboardInterrupt, to truncate traceback\u001b[0m\u001b[1;33m\u001b[0m\u001b[1;33m\u001b[0m\u001b[0m\n\u001b[1;32m-> 1051\u001b[1;33m                 \u001b[1;32mraise\u001b[0m \u001b[0mKeyboardInterrupt\u001b[0m\u001b[1;33m(\u001b[0m\u001b[1;34m\"Interrupted by user\"\u001b[0m\u001b[1;33m)\u001b[0m \u001b[1;32mfrom\u001b[0m \u001b[1;32mNone\u001b[0m\u001b[1;33m\u001b[0m\u001b[1;33m\u001b[0m\u001b[0m\n\u001b[0m\u001b[0;32m   1052\u001b[0m             \u001b[1;32mexcept\u001b[0m \u001b[0mException\u001b[0m\u001b[1;33m:\u001b[0m\u001b[1;33m\u001b[0m\u001b[1;33m\u001b[0m\u001b[0m\n\u001b[0;32m   1053\u001b[0m                 \u001b[0mself\u001b[0m\u001b[1;33m.\u001b[0m\u001b[0mlog\u001b[0m\u001b[1;33m.\u001b[0m\u001b[0mwarning\u001b[0m\u001b[1;33m(\u001b[0m\u001b[1;34m\"Invalid Message:\"\u001b[0m\u001b[1;33m,\u001b[0m \u001b[0mexc_info\u001b[0m\u001b[1;33m=\u001b[0m\u001b[1;32mTrue\u001b[0m\u001b[1;33m)\u001b[0m\u001b[1;33m\u001b[0m\u001b[1;33m\u001b[0m\u001b[0m\n",
      "\u001b[1;31mKeyboardInterrupt\u001b[0m: Interrupted by user"
     ]
    }
   ],
   "source": [
    "a = int(input(\"정수입력 >> \"))\n",
    "b = int(input(\"정수입력 >> \")) \n",
    "a if a >= b else b\n",
    "'큰수는 a = %d'%(a) if a>=b else '큰수는 b = %d'%(b)"
   ]
  },
  {
   "cell_type": "code",
   "execution_count": null,
   "id": "da06f107",
   "metadata": {
    "scrolled": true
   },
   "outputs": [],
   "source": [
    "a = int(input(\"첫 번째 정수 입력 >> \"))\n",
    "b = int(input(\"두 번째 정수 입력 >> \")) \n",
    "print(f'두 수의 차 : {a-b}') if a>=b else print(f'두 수의 차 : {b-a}')\n",
    "print('두 수의 차 : %d'%(a-b)) if a>=b else print('두 수의 차 : %d'%(b-a))\n",
    "print('두 수의 차 : {}'.format(a=b)) if a>=b else print('두 수의 차 : {}'.format(b-a))\n"
   ]
  },
  {
   "cell_type": "markdown",
   "id": "922568ae",
   "metadata": {},
   "source": [
    "##### 키보드로 정수를 입력받아 홀수인지 짝수인지 판별하세요!"
   ]
  },
  {
   "cell_type": "code",
   "execution_count": null,
   "id": "39662418",
   "metadata": {},
   "outputs": [],
   "source": [
    "num = int(input(\"정수 입력 >> \"))\n",
    "'짝수' if num%2==0 else '홀수'"
   ]
  },
  {
   "cell_type": "markdown",
   "id": "b631d8a7",
   "metadata": {},
   "source": [
    "### 조건문\n",
    "- if, elif, else"
   ]
  },
  {
   "cell_type": "code",
   "execution_count": null,
   "id": "9ce359e2",
   "metadata": {},
   "outputs": [],
   "source": [
    "if False:\n",
    "    print('실행문장실행')\n",
    "print('if문 밖에있는 문장 실행')"
   ]
  },
  {
   "cell_type": "code",
   "execution_count": null,
   "id": "2af3a5d9",
   "metadata": {
    "scrolled": true
   },
   "outputs": [],
   "source": [
    "money = int(input('money = '))\n",
    "\n",
    "if money >= 10000:\n",
    "    print('택시를 탄다.')\n",
    "elif (money >= 1550):\n",
    "    print('버스 붕붕')\n",
    "else:\n",
    "    print('아무것도 못타!')\n"
   ]
  },
  {
   "cell_type": "code",
   "execution_count": null,
   "id": "aae5508e",
   "metadata": {},
   "outputs": [],
   "source": [
    "if False:\n",
    "    print('실행문장1')\n",
    "else:\n",
    "    print('실행문장2')"
   ]
  },
  {
   "cell_type": "code",
   "execution_count": null,
   "id": "362546a4",
   "metadata": {},
   "outputs": [],
   "source": [
    "num1 = int(input('정수 입력 >> '))\n",
    "a = int(input('첫 번째 정수 입력 >> '))\n",
    "b = int(input('첫 번째 정수 입력 >> '))\n",
    "if num1%a == 0 and num1%b == 0:\n",
    "    print('%d과 %d의 배수입니다.'%(a,b))\n",
    "else:\n",
    "    print('%d와 %d의 배수가 아니여'%(a,b))"
   ]
  },
  {
   "cell_type": "code",
   "execution_count": null,
   "id": "cf6ce796",
   "metadata": {},
   "outputs": [],
   "source": [
    "num1 = int(input('첫 번째 정수 입력 >> '))\n",
    "num2 = int(input('첫 번째 정수 입력 >> '))\n",
    "if num1 > num2:\n",
    "    print('첫 번째가 더 크네')\n",
    "elif num2 > num1:\n",
    "    print('두 번째가 더 크네?')\n",
    "else:\n",
    "    print('똑같자나?')"
   ]
  },
  {
   "cell_type": "code",
   "execution_count": null,
   "id": "4968f917",
   "metadata": {},
   "outputs": [],
   "source": [
    "score = int(input('점수 입력 >> '))\n",
    "if score > 100:\n",
    "    print('다시 입력해줘!')\n",
    "    score = int(input('점수 입력 >> '))\n",
    "\n",
    "if score <= 100 and score >= 90:\n",
    "    print('%d점은 A학점 입니다.'%(score))\n",
    "elif score >= 80:\n",
    "    print('%d점은 B학점 입니다.'%(score))\n",
    "elif score >= 70:\n",
    "    print('%d점은 C학점 입니다.'%(score))\n",
    "elif score >= 60:\n",
    "    print('%d점은 D학점 입니다.'%(score))\n",
    "else:\n",
    "    print('%d점은 F학점 입니다.'%(score))\n"
   ]
  },
  {
   "cell_type": "code",
   "execution_count": null,
   "id": "b44e3e16",
   "metadata": {},
   "outputs": [],
   "source": [
    "score = int(input('점수 입력 >> '))\n",
    "while score > 100:\n",
    "    print('다시 입력해줘!')\n",
    "    score = int(input('점수 입력 >> '))\n",
    "\n",
    "if score <= 100 and score >= 90:\n",
    "    grade = \"A\"\n",
    "elif score >= 80:\n",
    "    grade = \"B\"\n",
    "elif score >= 70:\n",
    "    grade = \"C\"\n",
    "elif score >= 60:\n",
    "    grade = \"D\"\n",
    "else:\n",
    "    grade = \"F\"\n",
    "print('{}점은 {}학점 입니다.'.format(score,grade))"
   ]
  },
  {
   "cell_type": "code",
   "execution_count": null,
   "id": "a797343c",
   "metadata": {
    "scrolled": true
   },
   "outputs": [],
   "source": [
    "print('''\n",
    "================================================\n",
    "================---- 자판기 ----================\n",
    "================================================\n",
    "== 1.콜라 == 2.사이다 ==  3.물  =======insert===\n",
    "==--------==----------==--------=======------===\n",
    "==   600  ==    800   ==  1000  ======= O00원===\n",
    "=======================================------===\n",
    "================================================\n",
    "==++++++++++++++++++++++++++++++++++++++++++++==\n",
    "==++++++++++++++++++++++++++++++++++++++++++++==\n",
    "==++++++++++++++++++++++++++++++++++++++++++++==\n",
    "==+++++++++++++++              +++++++++++++++==\n",
    "==+++++++++++++++     SMHRD    +++++++++++++++==\n",
    "==+++++++++++++++              +++++++++++++++==\n",
    "==++++++++++++++++++++++++++++++++++++++++++++==\n",
    "==++++++++++++++++++++++++++++++++++++++++++++==\n",
    "================================================\n",
    "================================================\n",
    " ===                                      ===\n",
    " ===                                      ===\n",
    "''')\n",
    "coin = int(input('insert coin >> '))\n",
    "cola = 600\n",
    "sidar = 800\n",
    "water = 1000\n",
    "\n",
    "while coin>0:\n",
    "    menu = int(input('메뉴 선택 >> '))\n",
    "    if menu == 1:\n",
    "        if coin < cola:\n",
    "            print(\"잔액이 부족합니당\")\n",
    "        else:\n",
    "            colazz = coin - cola\n",
    "            a = colazz//1000\n",
    "            b = colazz%1000 // 500\n",
    "            c = colazz%1000 % 500 //100\n",
    "            if(a >= 0 and b >= 0 and c>= 0):\n",
    "                print('잔돈 >> 1000원 %d개, 500원 %d개, 100원 %d개'%(a,b,c))\n",
    "            else:\n",
    "                print('돈 부족해!')\n",
    "            coin = colazz\n",
    "        \n",
    "    elif menu == 2:\n",
    "        if coin < sidar:\n",
    "            print(\"잔액이 부족합니당\")\n",
    "        else:\n",
    "            sidarzz = coin - sidar\n",
    "            a = sidarzz//1000\n",
    "            b = sidarzz%1000 // 500\n",
    "            c = sidarzz%1000 % 500 //100\n",
    "            if(a >= 0 and b >= 0 and c>= 0):\n",
    "                print('잔돈 >> 1000원 %d개, 500원 %d개, 100원 %d개'%(a,b,c))\n",
    "            else:\n",
    "                print('돈 부족해!')\n",
    "            coin = sidarzz\n",
    "        \n",
    "    elif menu == 3:\n",
    "        if coin < water:\n",
    "            print(\"잔액이 부족합니당\")\n",
    "        else:\n",
    "            waterzz = coin - water\n",
    "            a = waterzz//1000\n",
    "            b = waterzz%1000 // 500\n",
    "            c = waterzz%1000 % 500 //100\n",
    "            if(a >= 0 and b >= 0 and c>= 0):\n",
    "                print('잔돈 >> 1000원 %d개, 500원 %d개, 100원 %d개'%(a,b,c))\n",
    "            else:\n",
    "                print('돈 부족해!')\n",
    "            coin = waterzz\n",
    "    else:\n",
    "        print('그런건 없단다.')\n",
    "        break"
   ]
  },
  {
   "cell_type": "markdown",
   "id": "f809299b",
   "metadata": {},
   "source": [
    "### 리스트\n",
    "- 파이썬의 자료구조 형태중 하나\n",
    "- 순서가 있는 수정이 가능한 객체의 집합\n",
    "- 추가, 수정, 삭제 가능!!"
   ]
  },
  {
   "cell_type": "code",
   "execution_count": null,
   "id": "ceb91bac",
   "metadata": {},
   "outputs": [],
   "source": [
    "a = []\n",
    "b = [1,2,3]\n",
    "c = ['my', 'name']\n",
    "d = [1,2,'my','name']\n",
    "e = [1,2,['my','name']]\n",
    "print(e)\n"
   ]
  },
  {
   "cell_type": "code",
   "execution_count": null,
   "id": "05e5d117",
   "metadata": {},
   "outputs": [],
   "source": [
    "list1 = [2,5,7,9,10]\n",
    "print(list1[0])\n",
    "print(list1[2])\n",
    "print(list1[0:2])\n",
    "print(list1[2] + list1[-1])"
   ]
  },
  {
   "cell_type": "code",
   "execution_count": null,
   "id": "5ec6a75b",
   "metadata": {},
   "outputs": [],
   "source": [
    "list2 = [1,2,3,['a','b','c']]\n"
   ]
  },
  {
   "cell_type": "code",
   "execution_count": null,
   "id": "4eb928ba",
   "metadata": {},
   "outputs": [],
   "source": [
    "temp = list2[3]\n",
    "print(temp)"
   ]
  },
  {
   "cell_type": "code",
   "execution_count": null,
   "id": "d64f262c",
   "metadata": {},
   "outputs": [],
   "source": [
    "#b를 출력하세요!\n",
    "print(temp[1])\n",
    "print(list2[3][1])"
   ]
  },
  {
   "cell_type": "code",
   "execution_count": null,
   "id": "4d9f0310",
   "metadata": {
    "scrolled": true
   },
   "outputs": [],
   "source": [
    "list3 = [0,1,2,3,4]\n",
    "print(list3[1:3])\n",
    "print(list3[-4:-2])\n",
    "print(list3[:2])\n",
    "print(list3[3:])\n"
   ]
  },
  {
   "cell_type": "code",
   "execution_count": null,
   "id": "a2a0c8b0",
   "metadata": {},
   "outputs": [],
   "source": [
    "list4 = [1,2,3]\n",
    "list5 = [3,4,5,6]\n",
    "list4 + list5\n"
   ]
  },
  {
   "cell_type": "code",
   "execution_count": null,
   "id": "ac85c4be",
   "metadata": {},
   "outputs": [],
   "source": [
    "#append함수를 활용한 값 추가(맨 뒤에 값이 추가된다.)\n",
    "list6 = [0,1,2,3,4]\n",
    "list6.append(5)\n",
    "list6"
   ]
  },
  {
   "cell_type": "code",
   "execution_count": null,
   "id": "0da6273a",
   "metadata": {},
   "outputs": [],
   "source": [
    "list = ['사과','포도',['수박','멜론'],'복숭아','딸기','오렌지']\n",
    "choice_list1 = []\n",
    "choice_list1.append(list[0])\n",
    "choice_list1.append(list[-1])\n",
    "choice_list1.append(list[2][0])\n",
    "\n",
    "print(choice_list)\n",
    "print(choice_list1)"
   ]
  },
  {
   "cell_type": "code",
   "execution_count": null,
   "id": "aaf5b8c4",
   "metadata": {},
   "outputs": [],
   "source": [
    "#insert(인덱스위치, 값) 함수 사용!\n",
    "#인덱스 위치에 값 추가"
   ]
  },
  {
   "cell_type": "code",
   "execution_count": null,
   "id": "6b66905b",
   "metadata": {},
   "outputs": [],
   "source": [
    "list5 = [0,1,2,3,4]\n",
    "list5.insert(1,5)\n",
    "print(list5)"
   ]
  },
  {
   "cell_type": "code",
   "execution_count": null,
   "id": "8128f50d",
   "metadata": {},
   "outputs": [],
   "source": [
    "list5.insert(-1,6)\n",
    "print(list5)"
   ]
  },
  {
   "cell_type": "code",
   "execution_count": 5,
   "id": "1553c560",
   "metadata": {
    "collapsed": true
   },
   "outputs": [
    {
     "name": "stdout",
     "output_type": "stream",
     "text": [
      "인덱스위치입력 >> 0\n",
      "노래제목입력 >> \n",
      "가수입력 >>방탄\n",
      "인덱스위치입력 >> 1\n",
      "노래제목입력 >> 라일락\n",
      "가수입력 >>아이유\n",
      "인덱스위치입력 >> 2\n",
      "노래제목입력 >> 헤픈우연\n",
      "가수입력 >>헤이즈\n",
      "music_list :  [['', '방탄'], ['라일락', '아이유'], ['헤픈우연', '헤이즈']]\n"
     ]
    }
   ],
   "source": [
    "music_list = []\n",
    "index=0\n",
    "while index < 2:\n",
    "    index = int(input('인덱스위치입력 >> '))\n",
    "    song = input('노래제목입력 >> ')\n",
    "    singer = input('가수입력 >>')\n",
    "    music_list.insert(index,[song, singer])\n",
    "\n",
    "\n",
    "print('music_list : ', music_list)"
   ]
  },
  {
   "cell_type": "code",
   "execution_count": 14,
   "id": "196ff421",
   "metadata": {
    "collapsed": true
   },
   "outputs": [
    {
     "name": "stdout",
     "output_type": "stream",
     "text": [
      "인덱스 위치 입력 >> 0\n",
      "노래 제목 입력 >> Butter\n",
      "가수 입력 >> 방탄\n",
      "music_list [['Butter', '방탄'], ['Butter', '방탄'], ['헤픈 우연', '헤이즈'], ['라일락', '아이유']]\n"
     ]
    }
   ],
   "source": [
    "music_list=[['Butter','방탄'],['헤픈 우연','헤이즈'],['라일락','아이유']]\n",
    "loc=int(input('인덱스 위치 입력 >> '))\n",
    "song=input('노래 제목 입력 >> ')\n",
    "singer=input('가수 입력 >> ')\n",
    "\n",
    "music_list.insert(loc,[song,singer])\n",
    "print('music_list',music_list)"
   ]
  },
  {
   "cell_type": "code",
   "execution_count": 10,
   "id": "26513737",
   "metadata": {},
   "outputs": [
    {
     "data": {
      "text/plain": [
       "[0, 1, 2, 3, 4, 5]"
      ]
     },
     "execution_count": 10,
     "metadata": {},
     "output_type": "execute_result"
    }
   ],
   "source": [
    "list6 = [0,1,2,3,4,5]\n",
    "list6"
   ]
  },
  {
   "cell_type": "code",
   "execution_count": 13,
   "id": "52a60782",
   "metadata": {},
   "outputs": [
    {
     "data": {
      "text/plain": [
       "[0, 1, 2]"
      ]
     },
     "execution_count": 13,
     "metadata": {},
     "output_type": "execute_result"
    }
   ],
   "source": [
    "list6[:3]"
   ]
  },
  {
   "cell_type": "code",
   "execution_count": null,
   "id": "ee49386c",
   "metadata": {},
   "outputs": [],
   "source": [
    "print('수정 전:',list6[1])\n",
    "list6[1] = 7\n",
    "print('수정 후:',list6[1])"
   ]
  },
  {
   "cell_type": "code",
   "execution_count": 16,
   "id": "067ebeaa",
   "metadata": {},
   "outputs": [
    {
     "data": {
      "text/plain": [
       "[0, 1, 2, 3, 4, 5]"
      ]
     },
     "execution_count": 16,
     "metadata": {},
     "output_type": "execute_result"
    }
   ],
   "source": [
    "list6"
   ]
  },
  {
   "cell_type": "code",
   "execution_count": 19,
   "id": "42cc2d18",
   "metadata": {},
   "outputs": [
    {
     "name": "stdout",
     "output_type": "stream",
     "text": [
      "[0, 1, 2, 3, 7, 5]\n"
     ]
    }
   ],
   "source": [
    "list6[4] = 7\n",
    "print(list6)"
   ]
  },
  {
   "cell_type": "code",
   "execution_count": null,
   "id": "04c94bb4",
   "metadata": {},
   "outputs": [],
   "source": [
    "array = [1,2,3,4,5]"
   ]
  },
  {
   "cell_type": "code",
   "execution_count": null,
   "id": "9e6c0260",
   "metadata": {},
   "outputs": [],
   "source": [
    "array[4] = 7\n",
    "array[1] = ['a','b','c']\n",
    "array[3:] = 'd','e','f','g'\n",
    "array[0] = 'h','i','j'\n",
    "array\n",
    "array[0]"
   ]
  },
  {
   "cell_type": "code",
   "execution_count": 20,
   "id": "a7f49304",
   "metadata": {},
   "outputs": [
    {
     "name": "stdout",
     "output_type": "stream",
     "text": [
      "인덱스위치입력 >> 0\n",
      "노래제목입력 >> ㅇㅇ\n",
      "가수입력 >>ㅇㅇㅇ\n",
      "인덱스위치입력 >> 1\n",
      "노래제목입력 >> ㄷㄷ\n",
      "가수입력 >>ㄷㄷㄷ\n",
      "인덱스위치입력 >> 2\n",
      "노래제목입력 >> ㄱㄱ\n",
      "가수입력 >>ㄱㄱㄱ\n",
      "music_list123 :  [['ㅇㅇ', 'ㅇㅇㅇ'], ['ㄷㄷ', 'ㄷㄷㄷ'], ['ㄱㄱ', 'ㄱㄱㄱ']]\n"
     ]
    }
   ],
   "source": [
    "music_list123 = []\n",
    "index = 0\n",
    "while index < 2:\n",
    "    index = int(input('인덱스위치입력 >> '))\n",
    "    song = input('노래제목입력 >> ')\n",
    "    singer = input('가수입력 >>')\n",
    "    music_list123.insert(index,[song, singer])\n",
    "\n",
    "\n",
    "print('music_list123 : ', music_list123)"
   ]
  },
  {
   "cell_type": "code",
   "execution_count": null,
   "id": "3547c324",
   "metadata": {},
   "outputs": [],
   "source": [
    "list7 = [0,1,2,3,4,5]\n",
    "#del 키워드\n",
    "del list7[1]\n",
    "list7"
   ]
  },
  {
   "cell_type": "code",
   "execution_count": null,
   "id": "40a468cb",
   "metadata": {},
   "outputs": [],
   "source": [
    "del list7[1:4]\n",
    "list7"
   ]
  },
  {
   "cell_type": "code",
   "execution_count": null,
   "id": "b9210b18",
   "metadata": {},
   "outputs": [],
   "source": [
    "#remove(값) 함수 이용해서 값 삭제\n",
    "list7 = ['a','b','c','d','e']\n",
    "list7.remove('b')\n",
    "list7\n"
   ]
  },
  {
   "cell_type": "code",
   "execution_count": null,
   "id": "fd1d0f1c",
   "metadata": {},
   "outputs": [],
   "source": [
    "#sort() - 리스트에 있는 값을 오름차순으로 정렬\n",
    "list8 = [9,77,13,51,100,3]\n",
    "list8"
   ]
  },
  {
   "cell_type": "code",
   "execution_count": null,
   "id": "3e21f7df",
   "metadata": {},
   "outputs": [],
   "source": [
    "list8.sort()\n",
    "list8"
   ]
  },
  {
   "cell_type": "code",
   "execution_count": null,
   "id": "47023f2a",
   "metadata": {},
   "outputs": [],
   "source": [
    "#reverse() - 리스트에 있는 값을 역순으로 뒤집음\n",
    "#원래 True값이 역순이기 때문에 False값으로 넣으면 정방향으로 사용가능!\n",
    "list9 = [9,77,13,51,100,3]\n",
    "list9"
   ]
  },
  {
   "cell_type": "code",
   "execution_count": null,
   "id": "9e8db7cf",
   "metadata": {},
   "outputs": [],
   "source": [
    "list9.reverse()\n",
    "list9"
   ]
  },
  {
   "cell_type": "code",
   "execution_count": null,
   "id": "cc4e7926",
   "metadata": {},
   "outputs": [],
   "source": [
    "list9.sort()\n",
    "list9\n",
    "list9.reverse()\n",
    "list9"
   ]
  },
  {
   "cell_type": "code",
   "execution_count": null,
   "id": "0610a693",
   "metadata": {},
   "outputs": [],
   "source": [
    "list9.sort(reverse=False)\n",
    "list9"
   ]
  },
  {
   "cell_type": "code",
   "execution_count": null,
   "id": "16109525",
   "metadata": {},
   "outputs": [],
   "source": [
    "#index() - 찾고자하는 값의 위치를 반환\n",
    "list11 = ['a','b','c','d','e','f','c','c']\n",
    "list11.index('c')"
   ]
  },
  {
   "cell_type": "code",
   "execution_count": null,
   "id": "2ff31586",
   "metadata": {},
   "outputs": [],
   "source": [
    "#count() - 찾고자하는 값이 몇번들어있는지 반환\n",
    "list11.count('c')"
   ]
  },
  {
   "cell_type": "code",
   "execution_count": null,
   "id": "19e970d2",
   "metadata": {},
   "outputs": [],
   "source": [
    "#pop() - 마지막 값을 반환 후 삭제!\n",
    "list11.pop()"
   ]
  },
  {
   "cell_type": "code",
   "execution_count": null,
   "id": "d27458f0",
   "metadata": {},
   "outputs": [],
   "source": [
    "list11"
   ]
  },
  {
   "cell_type": "code",
   "execution_count": null,
   "id": "4731fc88",
   "metadata": {},
   "outputs": [],
   "source": [
    "#len(리스트) - 리스트 값 개수 반환\n",
    "list12 = [0,1,2]\n",
    "len(list12)\n",
    "len(list11)"
   ]
  },
  {
   "cell_type": "code",
   "execution_count": null,
   "id": "6fd8a9bb",
   "metadata": {},
   "outputs": [],
   "source": []
  },
  {
   "cell_type": "code",
   "execution_count": null,
   "id": "b4fcc0a1",
   "metadata": {},
   "outputs": [],
   "source": []
  },
  {
   "cell_type": "code",
   "execution_count": null,
   "id": "277aac3f",
   "metadata": {},
   "outputs": [],
   "source": []
  },
  {
   "cell_type": "code",
   "execution_count": null,
   "id": "10455cb2",
   "metadata": {},
   "outputs": [],
   "source": []
  },
  {
   "cell_type": "code",
   "execution_count": null,
   "id": "6ceeef0d",
   "metadata": {},
   "outputs": [],
   "source": []
  },
  {
   "cell_type": "code",
   "execution_count": null,
   "id": "6f8750cc",
   "metadata": {},
   "outputs": [],
   "source": []
  },
  {
   "cell_type": "code",
   "execution_count": null,
   "id": "57f25c5d",
   "metadata": {},
   "outputs": [],
   "source": []
  },
  {
   "cell_type": "code",
   "execution_count": null,
   "id": "c0594d9e",
   "metadata": {},
   "outputs": [],
   "source": []
  },
  {
   "cell_type": "code",
   "execution_count": null,
   "id": "bbf80bfd",
   "metadata": {},
   "outputs": [],
   "source": []
  },
  {
   "cell_type": "code",
   "execution_count": null,
   "id": "ede80a22",
   "metadata": {},
   "outputs": [],
   "source": []
  },
  {
   "cell_type": "code",
   "execution_count": null,
   "id": "31e233ac",
   "metadata": {},
   "outputs": [],
   "source": []
  },
  {
   "cell_type": "code",
   "execution_count": null,
   "id": "d629d7a1",
   "metadata": {},
   "outputs": [],
   "source": []
  },
  {
   "cell_type": "code",
   "execution_count": null,
   "id": "b3170a62",
   "metadata": {},
   "outputs": [],
   "source": []
  },
  {
   "cell_type": "code",
   "execution_count": null,
   "id": "98f73380",
   "metadata": {},
   "outputs": [],
   "source": []
  },
  {
   "cell_type": "code",
   "execution_count": null,
   "id": "02a2378a",
   "metadata": {},
   "outputs": [],
   "source": []
  },
  {
   "cell_type": "code",
   "execution_count": null,
   "id": "ddecb4a5",
   "metadata": {},
   "outputs": [],
   "source": []
  },
  {
   "cell_type": "code",
   "execution_count": null,
   "id": "39418844",
   "metadata": {},
   "outputs": [],
   "source": []
  },
  {
   "cell_type": "code",
   "execution_count": null,
   "id": "65e94848",
   "metadata": {},
   "outputs": [],
   "source": []
  },
  {
   "cell_type": "code",
   "execution_count": null,
   "id": "b2414942",
   "metadata": {},
   "outputs": [],
   "source": []
  },
  {
   "cell_type": "code",
   "execution_count": null,
   "id": "528dc363",
   "metadata": {},
   "outputs": [],
   "source": []
  },
  {
   "cell_type": "code",
   "execution_count": null,
   "id": "e46272e2",
   "metadata": {},
   "outputs": [],
   "source": []
  },
  {
   "cell_type": "code",
   "execution_count": null,
   "id": "5b61878a",
   "metadata": {},
   "outputs": [],
   "source": []
  },
  {
   "cell_type": "code",
   "execution_count": null,
   "id": "44ce5499",
   "metadata": {},
   "outputs": [],
   "source": []
  }
 ],
 "metadata": {
  "kernelspec": {
   "display_name": "Python 3 (ipykernel)",
   "language": "python",
   "name": "python3"
  },
  "language_info": {
   "codemirror_mode": {
    "name": "ipython",
    "version": 3
   },
   "file_extension": ".py",
   "mimetype": "text/x-python",
   "name": "python",
   "nbconvert_exporter": "python",
   "pygments_lexer": "ipython3",
   "version": "3.9.7"
  }
 },
 "nbformat": 4,
 "nbformat_minor": 5
}
