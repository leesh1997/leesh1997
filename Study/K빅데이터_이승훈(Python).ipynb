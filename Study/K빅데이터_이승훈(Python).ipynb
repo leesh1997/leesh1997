{
 "cells": [
  {
   "cell_type": "markdown",
   "id": "011666e3",
   "metadata": {},
   "source": [
    "### 문제 1 파이썬의 특징을 3가지 작성하시오."
   ]
  },
  {
   "cell_type": "code",
   "execution_count": 1,
   "id": "c5b0617a",
   "metadata": {},
   "outputs": [],
   "source": [
    "# 1. 파이썬은 인터프리터 언어이다.\n",
    "# 2. 인간다운 언어이다.\n",
    "# 3. 문법이 쉬워 배우기 쉽고 코드가 간결하다."
   ]
  },
  {
   "cell_type": "markdown",
   "id": "17367201",
   "metadata": {},
   "source": [
    "### 문제 2 인터프리터 언어에 대해 서술하시오."
   ]
  },
  {
   "cell_type": "code",
   "execution_count": 2,
   "id": "6c78ef1b",
   "metadata": {},
   "outputs": [],
   "source": [
    "# 인터프리터 언어는 한 줄 한 줄 읽어가며 바로 명령을 처리하는 프로그래밍 언어이다.\n",
    "# 한 줄씩 실행하다보니 실행속도는 컴파일러 언어보다 조금 느린 편이다.\n"
   ]
  },
  {
   "cell_type": "markdown",
   "id": "c0c8038b",
   "metadata": {},
   "source": [
    "### 문제 3 리스트의 함수 중 append(), insert()의 차이점을 서술하시오."
   ]
  },
  {
   "cell_type": "code",
   "execution_count": 3,
   "id": "2c514b97",
   "metadata": {},
   "outputs": [],
   "source": [
    "# append()함수는 list의 맨 뒤에 값을 추가하는 함수이고\n",
    "# insert()함수는 원하는 인덱스 위치에 값을 추가할 수 있는 함수이다."
   ]
  },
  {
   "cell_type": "markdown",
   "id": "6247eb69",
   "metadata": {},
   "source": [
    "### 문제 4 리스트와 튜플의 차이점을 서술하시오."
   ]
  },
  {
   "cell_type": "code",
   "execution_count": 4,
   "id": "430ae421",
   "metadata": {},
   "outputs": [],
   "source": [
    "# 리스트는 가변적(mutable)이며, 튜플은 불변적(immutable)\n",
    "# 리스트는 요소가 몇 개 들어갈지 명확하지 않은 경우에 사용\n",
    "# 튜플은 요소 개수를 사전에 정확히 알고 있을 경우에 사용"
   ]
  },
  {
   "cell_type": "markdown",
   "id": "1ab5fc5e",
   "metadata": {},
   "source": [
    "### 문제 5 반복문(2가지)의 종류와 각각의 특징을 서술하시오."
   ]
  },
  {
   "cell_type": "code",
   "execution_count": 5,
   "id": "8affbfaa",
   "metadata": {},
   "outputs": [],
   "source": [
    "# while, for 두 가지 종류가 있는데 \n",
    "# while문은 반복 횟수가 명확하지 않을 때 사용하고\n",
    "# for문은 반복 횟수가 명확할 때 사용한다"
   ]
  },
  {
   "cell_type": "markdown",
   "id": "2d94e960",
   "metadata": {},
   "source": [
    "### 문제 6 함수의 필요성을 2가지 이상 서술하시오."
   ]
  },
  {
   "cell_type": "code",
   "execution_count": 6,
   "id": "ef8d7837",
   "metadata": {},
   "outputs": [],
   "source": [
    "# 반복적인 프로그래밍을 피할 수 있다\n",
    "# 모듈화로 인해 전체적인 코드의 가독성이 좋아진다\n",
    "# 프로그램에 문제가 발생하거나 기능의 변경이 필요할 때에도 손쉽게 유지보수가 가능하다"
   ]
  },
  {
   "cell_type": "markdown",
   "id": "da0778e4",
   "metadata": {},
   "source": [
    "### 문제 7 "
   ]
  },
  {
   "cell_type": "code",
   "execution_count": 7,
   "id": "bf87ec8b",
   "metadata": {},
   "outputs": [
    {
     "name": "stdout",
     "output_type": "stream",
     "text": [
      "첫 번째 정수 입력 : 5\n",
      "두 번째 정수 입력 : 12\n",
      "연산자 입력 : +\n",
      "연산결과 : 17\n"
     ]
    }
   ],
   "source": [
    "num1 = int(input('첫 번째 정수 입력 : '))\n",
    "num2 = int(input('두 번째 정수 입력 : '))\n",
    "op = input('연산자 입력 : ')\n",
    "if op == '+':\n",
    "    print(f'연산결과 : {num1+num2}')\n",
    "elif op == '-':\n",
    "    print(f'연산결과 : {num1-num2}')\n",
    "elif op == '*':\n",
    "    print(f'연산결과 : {num1*num2}')\n",
    "elif op == '/':\n",
    "    print(f'연산결과 : {num1/num2}')\n",
    "else :\n",
    "    print('다시 입력해주세요')"
   ]
  },
  {
   "cell_type": "markdown",
   "id": "dcbd6617",
   "metadata": {},
   "source": [
    "### 문제 8(응용)"
   ]
  },
  {
   "cell_type": "code",
   "execution_count": 8,
   "id": "2c218a05",
   "metadata": {},
   "outputs": [
    {
     "name": "stdout",
     "output_type": "stream",
     "text": [
      "2*1=2\t3*1=3\t4*1=4\t5*1=5\t6*1=6\t7*1=7\t8*1=8\t9*1=9\t\n",
      "2*2=4\t3*2=6\t4*2=8\t5*2=10\t6*2=12\t7*2=14\t8*2=16\t9*2=18\t\n",
      "2*3=6\t3*3=9\t4*3=12\t5*3=15\t6*3=18\t7*3=21\t8*3=24\t9*3=27\t\n",
      "2*4=8\t3*4=12\t4*4=16\t5*4=20\t6*4=24\t7*4=28\t8*4=32\t9*4=36\t\n",
      "2*5=10\t3*5=15\t4*5=20\t5*5=25\t6*5=30\t7*5=35\t8*5=40\t9*5=45\t\n",
      "2*6=12\t3*6=18\t4*6=24\t5*6=30\t6*6=36\t7*6=42\t8*6=48\t9*6=54\t\n",
      "2*7=14\t3*7=21\t4*7=28\t5*7=35\t6*7=42\t7*7=49\t8*7=56\t9*7=63\t\n",
      "2*8=16\t3*8=24\t4*8=32\t5*8=40\t6*8=48\t7*8=56\t8*8=64\t9*8=72\t\n",
      "2*9=18\t3*9=27\t4*9=36\t5*9=45\t6*9=54\t7*9=63\t8*9=72\t9*9=81\t\n"
     ]
    }
   ],
   "source": [
    "for i in range(1,10,1):\n",
    "    for j in range(2,10,1):\n",
    "        print(f'{j}*{i}={j*i}',end=\"\\t\")\n",
    "    print(\"\")"
   ]
  },
  {
   "cell_type": "markdown",
   "id": "b855ee9b",
   "metadata": {},
   "source": [
    "### 문제 9 "
   ]
  },
  {
   "cell_type": "code",
   "execution_count": 11,
   "id": "281b9e35",
   "metadata": {},
   "outputs": [
    {
     "name": "stdout",
     "output_type": "stream",
     "text": [
      "짝수 2 개 홀수 7 개\n"
     ]
    }
   ],
   "source": [
    "list1 = [1,30,7,9,17,3,5,23,44]\n",
    "zxx=0\n",
    "zcc=0\n",
    "\n",
    "for i in range(9):\n",
    "    if list1[i]%2==0:\n",
    "        zxx+=1\n",
    "    else:\n",
    "        zcc+=1\n",
    "print('짝수',zxx,'개','홀수',zcc,'개')"
   ]
  },
  {
   "cell_type": "code",
   "execution_count": null,
   "id": "4e3c1f82",
   "metadata": {},
   "outputs": [],
   "source": [
    "a=list1[0]%2==0\n"
   ]
  },
  {
   "cell_type": "markdown",
   "id": "f6fd7922",
   "metadata": {},
   "source": [
    "### 문제 10"
   ]
  },
  {
   "cell_type": "code",
   "execution_count": 29,
   "id": "0146654e",
   "metadata": {},
   "outputs": [
    {
     "data": {
      "text/plain": [
       "[['김미희', 89, 78, 99], ['서대희', 67, 88, 77], ['강예진', 100, 55, 96]]"
      ]
     },
     "execution_count": 29,
     "metadata": {},
     "output_type": "execute_result"
    }
   ],
   "source": [
    "score_list = [[\"김미희\",89,78,99],\n",
    "              [\"서대희\",67,88,77],\n",
    "              [\"강예진\",100,55,96]]\n",
    "score_list"
   ]
  },
  {
   "cell_type": "code",
   "execution_count": 30,
   "id": "09d130ad",
   "metadata": {},
   "outputs": [
    {
     "data": {
      "text/plain": [
       "[['김미희', 89, 78, 99, 88], ['서대희', 67, 88, 77, 77], ['강예진', 100, 55, 96, 83]]"
      ]
     },
     "execution_count": 30,
     "metadata": {},
     "output_type": "execute_result"
    }
   ],
   "source": [
    "def stu_mean(score_list):\n",
    "    for i in range(0,len(score_list)):\n",
    "        sum = score_list[i][1] + score_list[i][2] + score_list[i][3]\n",
    "        if len(score_list[i]) > 4:\n",
    "            del score_list[i][4]\n",
    "        score_list[i].insert(4,sum//3)\n",
    "                             \n",
    "stu_mean(score_list)\n",
    "score_list"
   ]
  },
  {
   "cell_type": "code",
   "execution_count": 31,
   "id": "968775c0",
   "metadata": {},
   "outputs": [
    {
     "data": {
      "text/plain": [
       "[['김미희', 89, 78, 99, 88, 'B'],\n",
       " ['서대희', 67, 88, 77, 77, 'C'],\n",
       " ['강예진', 100, 55, 96, 83, 'B']]"
      ]
     },
     "execution_count": 31,
     "metadata": {},
     "output_type": "execute_result"
    }
   ],
   "source": [
    "def grade(score_list):\n",
    "    for i in range(0,len(score_list)):\n",
    "        grade1 = score_list[i][4]\n",
    "        if len(score_list[i]) > 5:\n",
    "            del score_list[i][5]\n",
    "        if grade1 >= 90:\n",
    "            score_list[i].insert(5,'A')\n",
    "        elif grade1 >= 80 and grade1 < 90:\n",
    "            score_list[i].insert(5,'B')\n",
    "        elif grade1 >= 70 and grade1 < 80:\n",
    "            score_list[i].insert(5,'C')\n",
    "        elif grade1 >= 60 and grade1 < 70:\n",
    "            score_list[i].insert(5,'D')\n",
    "        else:\n",
    "            score_list[i].insert(5,'F')\n",
    "grade(score_list)\n",
    "score_list"
   ]
  },
  {
   "cell_type": "code",
   "execution_count": 16,
   "id": "b18b435b",
   "metadata": {},
   "outputs": [
    {
     "data": {
      "text/plain": [
       "['평균', 85, 73, 90]"
      ]
     },
     "execution_count": 16,
     "metadata": {},
     "output_type": "execute_result"
    }
   ],
   "source": [
    "def subject_mean(score_list):\n",
    "    avg_list=['평균']\n",
    "    for i in range(1,4):\n",
    "        sum2=0\n",
    "        for j in range(0,len(score_list)):\n",
    "            sum2=sum2+score_list[j][i]\n",
    "        avg_list.append(sum2//len(score_list))\n",
    "    return avg_list\n",
    "avg_list = subject_mean(score_list)\n",
    "avg_list"
   ]
  },
  {
   "cell_type": "code",
   "execution_count": 17,
   "id": "dd74a76e",
   "metadata": {
    "scrolled": true
   },
   "outputs": [
    {
     "name": "stdout",
     "output_type": "stream",
     "text": [
      "==================================================\n",
      "이름\tPython\tJava\tDB\t평균\t학점\n",
      "==================================================\n",
      "김미희\t89\t78\t99\t88\tB\t\n",
      "서대희\t67\t88\t77\t77\tC\t\n",
      "강예진\t100\t55\t96\t83\tB\t\n",
      "==================================================\n",
      "평균\t85\t73\t90\t"
     ]
    }
   ],
   "source": [
    "def show(score_list,avg_list):\n",
    "    \n",
    "    print('='*50)\n",
    "    print('이름\\tPython\\tJava\\tDB\\t평균\\t학점')\n",
    "    print('='*50)\n",
    "    for i in range(0,len(score_list)):\n",
    "        for j in range(0,len(score_list[i])):\n",
    "            print(score_list[i][j],end='\\t')\n",
    "        print()\n",
    "    print('='*50)\n",
    "    for i in range(0,len(avg_list)):\n",
    "        print(avg_list[i], end='\\t')\n",
    "show(score_list,avg_list)"
   ]
  },
  {
   "cell_type": "code",
   "execution_count": 18,
   "id": "5e5450ba",
   "metadata": {},
   "outputs": [
    {
     "name": "stdout",
     "output_type": "stream",
     "text": [
      "==================================================\n",
      "이름\tPython\tJava\tDB\t평균\t학점\n",
      "==================================================\n",
      "김미희\t89\t78\t99\t88\tB\t\n",
      "서대희\t67\t88\t77\t77\tC\t\n",
      "강예진\t100\t55\t96\t83\tB\t\n",
      "차현석\t75\t100\t60\t78\tC\t\n",
      "==================================================\n",
      "평균\t82\t80\t83\t"
     ]
    }
   ],
   "source": [
    "score_list.append(['차현석',75,100,60])\n",
    "stu_mean(score_list)\n",
    "grade(score_list)\n",
    "avg_list=subject_mean(score_list)\n",
    "show(score_list,avg_list)\n"
   ]
  },
  {
   "cell_type": "markdown",
   "id": "13f850a5",
   "metadata": {},
   "source": [
    "### 문제 11"
   ]
  },
  {
   "cell_type": "code",
   "execution_count": 14,
   "id": "ca3fc97c",
   "metadata": {},
   "outputs": [],
   "source": [
    "import pickle"
   ]
  },
  {
   "cell_type": "code",
   "execution_count": 55,
   "id": "3c34b919",
   "metadata": {},
   "outputs": [
    {
     "name": "stdout",
     "output_type": "stream",
     "text": [
      "검색 할 단어 입력 : 개\n",
      "'개' 단어의 개수 : 308\n"
     ]
    }
   ],
   "source": [
    "with open('movie_review.pkl','rb') as f :\n",
    "    reviews = pickle.load(f)\n",
    "sear=input('검색 할 단어 입력 : ')\n",
    "cnt=0\n",
    "re_list=[]\n",
    "for re in reviews:\n",
    "    if sear in re[0]:\n",
    "        cnt+=re[0].count(sear)\n",
    "print(f'\\'{sear}\\' 단어의 개수 : {cnt}')"
   ]
  },
  {
   "cell_type": "code",
   "execution_count": 65,
   "id": "ec6b36b5",
   "metadata": {},
   "outputs": [
    {
     "name": "stdout",
     "output_type": "stream",
     "text": [
      "검색 할 단어 입력 : 개\n",
      "'개' 단어의 개수 : 308\n"
     ]
    }
   ],
   "source": [
    "search=input('검색 할 단어 입력 : ')\n",
    "cnt=0\n",
    "for i in range(len(reviews)):\n",
    "    cnt+=reviews[i][0].count(search)\n",
    "print(f'\\'{search}\\' 단어의 개수 : {cnt}')"
   ]
  },
  {
   "cell_type": "markdown",
   "id": "2cdf71df",
   "metadata": {},
   "source": [
    "### 문제 12"
   ]
  },
  {
   "cell_type": "code",
   "execution_count": 23,
   "id": "5533edf9",
   "metadata": {},
   "outputs": [
    {
     "name": "stdout",
     "output_type": "stream",
     "text": [
      "부정 :  11\n",
      "긍정 :  86\n"
     ]
    }
   ],
   "source": [
    "smi='^^'\n",
    "cnt1=0\n",
    "cnt2=0\n",
    "re_list=[]\n",
    "for re in reviews:\n",
    "    if smi in re[0]:\n",
    "        if re[1]==0:\n",
    "            cnt1+=1\n",
    "        else :\n",
    "            cnt2+=1\n",
    "print(f'부정 : ',cnt1)\n",
    "print(f'긍정 : ',cnt2)\n"
   ]
  }
 ],
 "metadata": {
  "kernelspec": {
   "display_name": "Python 3 (ipykernel)",
   "language": "python",
   "name": "python3"
  },
  "language_info": {
   "codemirror_mode": {
    "name": "ipython",
    "version": 3
   },
   "file_extension": ".py",
   "mimetype": "text/x-python",
   "name": "python",
   "nbconvert_exporter": "python",
   "pygments_lexer": "ipython3",
   "version": "3.9.7"
  }
 },
 "nbformat": 4,
 "nbformat_minor": 5
}
