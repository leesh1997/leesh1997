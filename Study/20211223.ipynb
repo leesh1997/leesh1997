{
 "cells": [
  {
   "cell_type": "markdown",
   "id": "3309d3a7",
   "metadata": {},
   "source": [
    "### 튜플(tuple)\n",
    "\n",
    "- 파이썬의 자료구조 형태중 하나\n",
    "- 순서가 있는 집합(인덱스)\n",
    "- 소괄호()로 작성되어지며, 콤마(,)로 구분된다.\n",
    "- 추가,수정,삭제 불가능하다\n",
    "- 처리속도 향상 및 메모리 공간 절약\n",
    "- 값이 변하면 안되는 경우 사용한다\n",
    "- 구문을 더 간단하게 사용하는 경우"
   ]
  },
  {
   "cell_type": "code",
   "execution_count": 4,
   "id": "da54e949",
   "metadata": {},
   "outputs": [
    {
     "name": "stdout",
     "output_type": "stream",
     "text": [
      "(1, 2, ('My', 'Name'))\n"
     ]
    }
   ],
   "source": [
    "a = ()\n",
    "b = (1,2,3)\n",
    "c = ('My','Name')\n",
    "d = (1,2,'My','Name')\n",
    "e = (1,2,('My','Name'))\n",
    "print(e)"
   ]
  },
  {
   "cell_type": "code",
   "execution_count": 5,
   "id": "738a8fb9",
   "metadata": {
    "scrolled": true
   },
   "outputs": [],
   "source": [
    "tuple1 = (0,1,2,3,('a','b','c'),5)"
   ]
  },
  {
   "cell_type": "code",
   "execution_count": 6,
   "id": "73cf62ab",
   "metadata": {},
   "outputs": [
    {
     "data": {
      "text/plain": [
       "6"
      ]
     },
     "execution_count": 6,
     "metadata": {},
     "output_type": "execute_result"
    }
   ],
   "source": [
    "len(tuple1)"
   ]
  },
  {
   "cell_type": "code",
   "execution_count": 7,
   "id": "446b4625",
   "metadata": {},
   "outputs": [
    {
     "data": {
      "text/plain": [
       "2"
      ]
     },
     "execution_count": 7,
     "metadata": {},
     "output_type": "execute_result"
    }
   ],
   "source": [
    "tuple1[2]"
   ]
  },
  {
   "cell_type": "code",
   "execution_count": 8,
   "id": "8933a0e8",
   "metadata": {},
   "outputs": [
    {
     "data": {
      "text/plain": [
       "('a', 'b', 'c')"
      ]
     },
     "execution_count": 8,
     "metadata": {},
     "output_type": "execute_result"
    }
   ],
   "source": [
    "tuple1[4]"
   ]
  },
  {
   "cell_type": "code",
   "execution_count": 9,
   "id": "83ce6d05",
   "metadata": {},
   "outputs": [
    {
     "data": {
      "text/plain": [
       "(1, 2)"
      ]
     },
     "execution_count": 9,
     "metadata": {},
     "output_type": "execute_result"
    }
   ],
   "source": [
    "tuple1[1:3]"
   ]
  },
  {
   "cell_type": "code",
   "execution_count": 10,
   "id": "624173a8",
   "metadata": {},
   "outputs": [
    {
     "data": {
      "text/plain": [
       "6"
      ]
     },
     "execution_count": 10,
     "metadata": {},
     "output_type": "execute_result"
    }
   ],
   "source": [
    "len(tuple1)"
   ]
  },
  {
   "cell_type": "code",
   "execution_count": 11,
   "id": "4986dca9",
   "metadata": {},
   "outputs": [
    {
     "ename": "TypeError",
     "evalue": "'tuple' object does not support item assignment",
     "output_type": "error",
     "traceback": [
      "\u001b[1;31m---------------------------------------------------------------------------\u001b[0m",
      "\u001b[1;31mTypeError\u001b[0m                                 Traceback (most recent call last)",
      "\u001b[1;32m~\\AppData\\Local\\Temp/ipykernel_13576/2735766022.py\u001b[0m in \u001b[0;36m<module>\u001b[1;34m\u001b[0m\n\u001b[1;32m----> 1\u001b[1;33m \u001b[0mtuple1\u001b[0m\u001b[1;33m[\u001b[0m\u001b[1;36m0\u001b[0m\u001b[1;33m]\u001b[0m\u001b[1;33m=\u001b[0m\u001b[1;36m3\u001b[0m\u001b[1;33m\u001b[0m\u001b[1;33m\u001b[0m\u001b[0m\n\u001b[0m",
      "\u001b[1;31mTypeError\u001b[0m: 'tuple' object does not support item assignment"
     ]
    }
   ],
   "source": [
    "tuple1[0]=3"
   ]
  },
  {
   "cell_type": "markdown",
   "id": "b3ee0273",
   "metadata": {},
   "source": [
    "### 데이터의 포함 여부 확인\n",
    "\n",
    "- in,not in"
   ]
  },
  {
   "cell_type": "code",
   "execution_count": null,
   "id": "4d7b65b6",
   "metadata": {},
   "outputs": [],
   "source": [
    "str1 = \"파이썬 최고\""
   ]
  },
  {
   "cell_type": "code",
   "execution_count": null,
   "id": "5bfbe74b",
   "metadata": {},
   "outputs": [],
   "source": [
    "\"파이썬최\" in str1"
   ]
  },
  {
   "cell_type": "code",
   "execution_count": null,
   "id": "b5f28527",
   "metadata": {},
   "outputs": [],
   "source": [
    "\"파이썬\" not in str1"
   ]
  },
  {
   "cell_type": "code",
   "execution_count": null,
   "id": "f237115a",
   "metadata": {},
   "outputs": [],
   "source": [
    "list1 = [77,38,10]"
   ]
  },
  {
   "cell_type": "code",
   "execution_count": null,
   "id": "0d4c0888",
   "metadata": {},
   "outputs": [],
   "source": [
    "33 in list1"
   ]
  },
  {
   "cell_type": "code",
   "execution_count": 14,
   "id": "598f4179",
   "metadata": {},
   "outputs": [],
   "source": [
    "list_fruit = ['딸기','바나나','수박','체리','포도']"
   ]
  },
  {
   "cell_type": "code",
   "execution_count": 16,
   "id": "d94eea4d",
   "metadata": {
    "collapsed": true
   },
   "outputs": [
    {
     "name": "stdout",
     "output_type": "stream",
     "text": [
      "*********************************************\n",
      "검색할 문자를 입력하세요 >> ㅇㅇ\n",
      "ㅇㅇ 는 리스트에 들어있지 않습니다.\n",
      "*********************************************\n"
     ]
    }
   ],
   "source": [
    "print('*'*45)\n",
    "a = input('검색할 문자를 입력하세요 >> ')\n",
    "if(a in list_fruit):\n",
    "    print(a,'는 리스트에 %d번째 인덱스에 들어있습니다.'%(list_fruit.index(a)))\n",
    "else:\n",
    "    print(a,'는 리스트에 들어있지 않습니다.')\n",
    "print('*'*45)"
   ]
  },
  {
   "cell_type": "code",
   "execution_count": 19,
   "id": "37fa5616",
   "metadata": {
    "collapsed": true
   },
   "outputs": [
    {
     "name": "stdout",
     "output_type": "stream",
     "text": [
      "*********************************************\n",
      "검색할 문자를 입력하세요 : s\n",
      "'s'는 1번 들어 있습니다.\n"
     ]
    }
   ],
   "source": [
    "s = 'Hi, My name is golgae'\n",
    "print('*'*45)\n",
    "aa = input('검색할 문자를 입력하세요 : ')\n",
    "if aa in s:\n",
    "    print(f'\\'{aa}\\'는 {s.count(aa)}번 들어 있습니다.')\n",
    "else:\n",
    "    print(f'\\'{aa}\\'는 문자열에 들어있지 않습니다.')"
   ]
  },
  {
   "cell_type": "markdown",
   "id": "bcf3ebce",
   "metadata": {},
   "source": [
    "### 반복문\n",
    "- while문 : 반복 횟수가 명확하지 않을 때 사용\n",
    "- for문 : 반복 횟수가 명확할 때 사용"
   ]
  },
  {
   "cell_type": "code",
   "execution_count": null,
   "id": "c8cf44de",
   "metadata": {},
   "outputs": [],
   "source": [
    "while 조건문:\n",
    "    실행문장"
   ]
  },
  {
   "cell_type": "code",
   "execution_count": null,
   "id": "c35438e0",
   "metadata": {},
   "outputs": [],
   "source": [
    "num = 0\n",
    "while num < 13:\n",
    "    num+=1\n",
    "    print(f'{num}파이썬 최고!!')"
   ]
  },
  {
   "cell_type": "code",
   "execution_count": null,
   "id": "19f8e82c",
   "metadata": {},
   "outputs": [],
   "source": [
    "while True:\n",
    "    print('무한루프')\n",
    "    break"
   ]
  },
  {
   "cell_type": "code",
   "execution_count": null,
   "id": "d3fc73b9",
   "metadata": {},
   "outputs": [],
   "source": [
    "number = 1\n",
    "while True:\n",
    "    print(number)\n",
    "    number += 1\n",
    "    if number > 3:\n",
    "        break"
   ]
  },
  {
   "cell_type": "code",
   "execution_count": null,
   "id": "a1d73fee",
   "metadata": {
    "scrolled": true
   },
   "outputs": [],
   "source": [
    "while True:\n",
    "    a = int(input('첫 번째 정수 입력 >>'))\n",
    "    b = int(input('첫 번째 정수 입력 >>'))\n",
    "    if a == 0 and b == 0:\n",
    "        print('프로그램이 종료되었습니다.')\n",
    "        break\n",
    "    print('두 정수의 합 : %d'%(a + b))"
   ]
  },
  {
   "cell_type": "code",
   "execution_count": null,
   "id": "cdfb60f5",
   "metadata": {
    "scrolled": false
   },
   "outputs": [],
   "source": [
    "a = 1\n",
    "now = int(input(\"현재 몸무게 : \"))\n",
    "dream = int(input(\"목표 몸무게 : \"))\n",
    "while True:\n",
    "    jibang = int(input(f'{a}주차 감량 몸무게 : '))\n",
    "    now -= jibang\n",
    "    jibang += 1\n",
    "    a+=1\n",
    "    if now <= dream:\n",
    "        print(f'{now} kg 달성!! 축하합니다!')\n",
    "        break\n",
    "    print(f'현재 몸무게 : {now}kg')\n",
    "    print(f'목표까지 {now - dream}kg 남았습니다')\n"
   ]
  },
  {
   "cell_type": "code",
   "execution_count": 20,
   "id": "c10a3d03",
   "metadata": {},
   "outputs": [
    {
     "name": "stdout",
     "output_type": "stream",
     "text": [
      "안\n",
      "녕\n",
      "하\n",
      "세\n",
      "요\n"
     ]
    }
   ],
   "source": [
    "s = \"안녕하세요\"\n",
    "for i in s:\n",
    "    print(i)"
   ]
  },
  {
   "cell_type": "code",
   "execution_count": null,
   "id": "42bb0d08",
   "metadata": {},
   "outputs": [],
   "source": [
    "tuple_food = (\"햄버거\",\"치킨\",\"피자\")\n",
    "for food in tuple_food:\n",
    "    print(food)"
   ]
  },
  {
   "cell_type": "code",
   "execution_count": null,
   "id": "1b35479a",
   "metadata": {
    "scrolled": true
   },
   "outputs": [],
   "source": [
    "score_list=[90,45,70,60,55]\n",
    "cnt = 0\n",
    "for i in score_list:\n",
    "    cnt+=1\n",
    "    if i >= 60:\n",
    "        print(f'{cnt}번 학생은 합격입니다.')\n",
    "    else:\n",
    "        print(f'{cnt}번 학생은 불합격입니다.')"
   ]
  },
  {
   "cell_type": "code",
   "execution_count": null,
   "id": "826e33c9",
   "metadata": {},
   "outputs": [],
   "source": []
  },
  {
   "cell_type": "code",
   "execution_count": null,
   "id": "5fed92fd",
   "metadata": {},
   "outputs": [],
   "source": []
  },
  {
   "cell_type": "code",
   "execution_count": null,
   "id": "625b5663",
   "metadata": {},
   "outputs": [],
   "source": []
  },
  {
   "cell_type": "code",
   "execution_count": null,
   "id": "485c2577",
   "metadata": {},
   "outputs": [],
   "source": []
  },
  {
   "cell_type": "code",
   "execution_count": null,
   "id": "efd435fc",
   "metadata": {},
   "outputs": [],
   "source": []
  },
  {
   "cell_type": "code",
   "execution_count": null,
   "id": "ee86ead9",
   "metadata": {},
   "outputs": [],
   "source": []
  },
  {
   "cell_type": "code",
   "execution_count": null,
   "id": "4f9312e2",
   "metadata": {},
   "outputs": [],
   "source": []
  },
  {
   "cell_type": "code",
   "execution_count": null,
   "id": "76308efc",
   "metadata": {},
   "outputs": [],
   "source": []
  },
  {
   "cell_type": "code",
   "execution_count": null,
   "id": "8a5f53f8",
   "metadata": {},
   "outputs": [],
   "source": []
  },
  {
   "cell_type": "code",
   "execution_count": null,
   "id": "920c43a9",
   "metadata": {},
   "outputs": [],
   "source": []
  },
  {
   "cell_type": "code",
   "execution_count": null,
   "id": "293907ee",
   "metadata": {},
   "outputs": [],
   "source": []
  },
  {
   "cell_type": "code",
   "execution_count": null,
   "id": "cdec8826",
   "metadata": {},
   "outputs": [],
   "source": []
  },
  {
   "cell_type": "code",
   "execution_count": null,
   "id": "ce246d63",
   "metadata": {},
   "outputs": [],
   "source": []
  },
  {
   "cell_type": "code",
   "execution_count": null,
   "id": "0a1d05dc",
   "metadata": {},
   "outputs": [],
   "source": []
  },
  {
   "cell_type": "code",
   "execution_count": null,
   "id": "4089a915",
   "metadata": {},
   "outputs": [],
   "source": []
  },
  {
   "cell_type": "code",
   "execution_count": null,
   "id": "a6b56c9f",
   "metadata": {},
   "outputs": [],
   "source": []
  },
  {
   "cell_type": "code",
   "execution_count": null,
   "id": "a7da6ebd",
   "metadata": {},
   "outputs": [],
   "source": []
  },
  {
   "cell_type": "code",
   "execution_count": null,
   "id": "62257de2",
   "metadata": {},
   "outputs": [],
   "source": []
  },
  {
   "cell_type": "code",
   "execution_count": null,
   "id": "a1ef247e",
   "metadata": {},
   "outputs": [],
   "source": []
  },
  {
   "cell_type": "code",
   "execution_count": null,
   "id": "496c995e",
   "metadata": {},
   "outputs": [],
   "source": []
  },
  {
   "cell_type": "code",
   "execution_count": null,
   "id": "2fcf206c",
   "metadata": {},
   "outputs": [],
   "source": []
  },
  {
   "cell_type": "code",
   "execution_count": null,
   "id": "5cf11ec5",
   "metadata": {},
   "outputs": [],
   "source": []
  },
  {
   "cell_type": "code",
   "execution_count": null,
   "id": "9410e946",
   "metadata": {},
   "outputs": [],
   "source": []
  },
  {
   "cell_type": "code",
   "execution_count": null,
   "id": "958d5015",
   "metadata": {},
   "outputs": [],
   "source": []
  },
  {
   "cell_type": "code",
   "execution_count": null,
   "id": "10d56604",
   "metadata": {},
   "outputs": [],
   "source": []
  },
  {
   "cell_type": "code",
   "execution_count": null,
   "id": "2b0bae8b",
   "metadata": {},
   "outputs": [],
   "source": []
  },
  {
   "cell_type": "code",
   "execution_count": null,
   "id": "e50d1ad0",
   "metadata": {},
   "outputs": [],
   "source": []
  },
  {
   "cell_type": "code",
   "execution_count": null,
   "id": "bd24e01c",
   "metadata": {},
   "outputs": [],
   "source": []
  },
  {
   "cell_type": "code",
   "execution_count": null,
   "id": "62fbb561",
   "metadata": {},
   "outputs": [],
   "source": []
  },
  {
   "cell_type": "code",
   "execution_count": null,
   "id": "9763d468",
   "metadata": {},
   "outputs": [],
   "source": []
  },
  {
   "cell_type": "code",
   "execution_count": null,
   "id": "7b8419bc",
   "metadata": {},
   "outputs": [],
   "source": []
  },
  {
   "cell_type": "code",
   "execution_count": null,
   "id": "daae75fd",
   "metadata": {},
   "outputs": [],
   "source": []
  },
  {
   "cell_type": "code",
   "execution_count": null,
   "id": "aa6ac836",
   "metadata": {},
   "outputs": [],
   "source": []
  },
  {
   "cell_type": "code",
   "execution_count": null,
   "id": "526f3ee5",
   "metadata": {},
   "outputs": [],
   "source": []
  },
  {
   "cell_type": "code",
   "execution_count": null,
   "id": "6024cba8",
   "metadata": {},
   "outputs": [],
   "source": []
  },
  {
   "cell_type": "code",
   "execution_count": null,
   "id": "870b9b8a",
   "metadata": {},
   "outputs": [],
   "source": []
  },
  {
   "cell_type": "code",
   "execution_count": null,
   "id": "752e9e8b",
   "metadata": {},
   "outputs": [],
   "source": []
  },
  {
   "cell_type": "code",
   "execution_count": null,
   "id": "2f70d1bc",
   "metadata": {},
   "outputs": [],
   "source": []
  },
  {
   "cell_type": "code",
   "execution_count": null,
   "id": "1dfc542d",
   "metadata": {},
   "outputs": [],
   "source": []
  },
  {
   "cell_type": "code",
   "execution_count": null,
   "id": "baf0a407",
   "metadata": {},
   "outputs": [],
   "source": []
  },
  {
   "cell_type": "code",
   "execution_count": null,
   "id": "c4f775d8",
   "metadata": {},
   "outputs": [],
   "source": []
  },
  {
   "cell_type": "code",
   "execution_count": null,
   "id": "b66c9cd6",
   "metadata": {},
   "outputs": [],
   "source": []
  },
  {
   "cell_type": "code",
   "execution_count": null,
   "id": "c137d6b2",
   "metadata": {},
   "outputs": [],
   "source": []
  },
  {
   "cell_type": "code",
   "execution_count": null,
   "id": "60d74399",
   "metadata": {},
   "outputs": [],
   "source": []
  },
  {
   "cell_type": "code",
   "execution_count": null,
   "id": "809d4cda",
   "metadata": {},
   "outputs": [],
   "source": []
  },
  {
   "cell_type": "code",
   "execution_count": null,
   "id": "43eace85",
   "metadata": {},
   "outputs": [],
   "source": []
  }
 ],
 "metadata": {
  "kernelspec": {
   "display_name": "Python 3 (ipykernel)",
   "language": "python",
   "name": "python3"
  },
  "language_info": {
   "codemirror_mode": {
    "name": "ipython",
    "version": 3
   },
   "file_extension": ".py",
   "mimetype": "text/x-python",
   "name": "python",
   "nbconvert_exporter": "python",
   "pygments_lexer": "ipython3",
   "version": "3.9.7"
  }
 },
 "nbformat": 4,
 "nbformat_minor": 5
}
