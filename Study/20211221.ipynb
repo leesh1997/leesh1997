{
 "cells": [
  {
   "cell_type": "markdown",
   "id": "ce63638a",
   "metadata": {},
   "source": [
    "# 파이썬"
   ]
  },
  {
   "cell_type": "code",
   "execution_count": 4,
   "id": "2bb608d1",
   "metadata": {
    "scrolled": true
   },
   "outputs": [
    {
     "data": {
      "text/plain": [
       "4"
      ]
     },
     "execution_count": 4,
     "metadata": {},
     "output_type": "execute_result"
    }
   ],
   "source": [
    "#주석처리!\n",
    "1+3 #1더하기 3 실행"
   ]
  },
  {
   "cell_type": "code",
   "execution_count": 5,
   "id": "b86cb4c7",
   "metadata": {},
   "outputs": [
    {
     "name": "stdout",
     "output_type": "stream",
     "text": [
      "5\n"
     ]
    }
   ],
   "source": [
    "print(5)"
   ]
  },
  {
   "cell_type": "code",
   "execution_count": 6,
   "id": "9f1e4f6c",
   "metadata": {},
   "outputs": [
    {
     "name": "stdout",
     "output_type": "stream",
     "text": [
      "11\n"
     ]
    }
   ],
   "source": [
    "print(3+8)"
   ]
  },
  {
   "cell_type": "code",
   "execution_count": 7,
   "id": "1104db1f",
   "metadata": {},
   "outputs": [
    {
     "name": "stdout",
     "output_type": "stream",
     "text": [
      "24\n"
     ]
    }
   ],
   "source": [
    "print(3*8)"
   ]
  },
  {
   "cell_type": "code",
   "execution_count": 8,
   "id": "82eb0e70",
   "metadata": {},
   "outputs": [
    {
     "name": "stdout",
     "output_type": "stream",
     "text": [
      "2.6666666666666665\n"
     ]
    }
   ],
   "source": [
    "print(8/3)"
   ]
  },
  {
   "cell_type": "code",
   "execution_count": 11,
   "id": "61cd2cb7",
   "metadata": {},
   "outputs": [
    {
     "name": "stdout",
     "output_type": "stream",
     "text": [
      "hello world!\n"
     ]
    }
   ],
   "source": [
    "print(\"hello world!\")"
   ]
  },
  {
   "cell_type": "code",
   "execution_count": 12,
   "id": "7e03eb1f",
   "metadata": {},
   "outputs": [
    {
     "name": "stdout",
     "output_type": "stream",
     "text": [
      "hello world\n"
     ]
    }
   ],
   "source": [
    "print('hello world')"
   ]
  },
  {
   "cell_type": "code",
   "execution_count": 13,
   "id": "6ae880b3",
   "metadata": {},
   "outputs": [
    {
     "name": "stdout",
     "output_type": "stream",
     "text": [
      "True\n"
     ]
    }
   ],
   "source": [
    "print(5<10)"
   ]
  },
  {
   "cell_type": "code",
   "execution_count": 14,
   "id": "5b744afe",
   "metadata": {},
   "outputs": [
    {
     "name": "stdout",
     "output_type": "stream",
     "text": [
      "False\n"
     ]
    }
   ],
   "source": [
    "print(5>10)"
   ]
  },
  {
   "cell_type": "code",
   "execution_count": 15,
   "id": "b78480a4",
   "metadata": {},
   "outputs": [
    {
     "name": "stdout",
     "output_type": "stream",
     "text": [
      "3\n"
     ]
    }
   ],
   "source": [
    "num=3\n",
    "print(num)"
   ]
  },
  {
   "cell_type": "code",
   "execution_count": 17,
   "id": "8c9cd5f7",
   "metadata": {},
   "outputs": [
    {
     "name": "stdout",
     "output_type": "stream",
     "text": [
      "13\n",
      "25\n",
      "77\n"
     ]
    }
   ],
   "source": [
    "num1=13 \n",
    "num2=25 \n",
    "num3=77\n",
    "print(num1) \n",
    "print(num2) \n",
    "print(num3)"
   ]
  },
  {
   "cell_type": "code",
   "execution_count": 18,
   "id": "64c7c810",
   "metadata": {},
   "outputs": [
    {
     "ename": "SyntaxError",
     "evalue": "cannot assign to literal (Temp/ipykernel_5960/3631111459.py, line 1)",
     "output_type": "error",
     "traceback": [
      "\u001b[1;36m  File \u001b[1;32m\"C:\\Users\\smhrd\\AppData\\Local\\Temp/ipykernel_5960/3631111459.py\"\u001b[1;36m, line \u001b[1;32m1\u001b[0m\n\u001b[1;33m    num1=13, num2=25, num3=77\u001b[0m\n\u001b[1;37m         ^\u001b[0m\n\u001b[1;31mSyntaxError\u001b[0m\u001b[1;31m:\u001b[0m cannot assign to literal\n"
     ]
    }
   ],
   "source": [
    "num1=13, num2=25, num3=77\n",
    "print(num1), print(num2), print(num3)"
   ]
  },
  {
   "cell_type": "code",
   "execution_count": 20,
   "id": "18b9518a",
   "metadata": {},
   "outputs": [
    {
     "name": "stdout",
     "output_type": "stream",
     "text": [
      "10 15 \t\n"
     ]
    }
   ],
   "source": [
    "a,b = 10,15\n",
    "print(a,b, \"\\t\")\n",
    "\n"
   ]
  },
  {
   "cell_type": "code",
   "execution_count": 21,
   "id": "15b259cf",
   "metadata": {},
   "outputs": [
    {
     "name": "stdout",
     "output_type": "stream",
     "text": [
      "python\n",
      "python\n"
     ]
    }
   ],
   "source": [
    "#str1 python 대입, str2 python 대입!!!\n",
    "str1 = str2 = 'python'\n",
    "print(str1)\n",
    "print(str2)"
   ]
  },
  {
   "cell_type": "code",
   "execution_count": 25,
   "id": "aa7c283d",
   "metadata": {},
   "outputs": [
    {
     "name": "stdout",
     "output_type": "stream",
     "text": [
      "300\n"
     ]
    }
   ],
   "source": [
    "x = 100\n",
    "y = 200\n",
    "sum = x+y\n",
    "print(sum)"
   ]
  },
  {
   "cell_type": "code",
   "execution_count": 30,
   "id": "cb13de0a",
   "metadata": {},
   "outputs": [
    {
     "name": "stdout",
     "output_type": "stream",
     "text": [
      "10\n"
     ]
    }
   ],
   "source": [
    "for i in range(11):\n",
    "    i=i\n",
    "print(i)"
   ]
  },
  {
   "cell_type": "code",
   "execution_count": 33,
   "id": "ff22afb8",
   "metadata": {},
   "outputs": [
    {
     "name": "stdout",
     "output_type": "stream",
     "text": [
      "she's gone\n"
     ]
    }
   ],
   "source": [
    "a = 'she\\'s gone'\n",
    "print(a)"
   ]
  },
  {
   "cell_type": "code",
   "execution_count": 41,
   "id": "15411cdb",
   "metadata": {},
   "outputs": [
    {
     "name": "stdout",
     "output_type": "stream",
     "text": [
      "자세히 보아야 예쁘다. \n",
      "오래 보아야 사랑스럽다. \n",
      "너도 그렇다.\n"
     ]
    }
   ],
   "source": [
    "#개행\n",
    "s1 = \"\"\"자세히 보아야 예쁘다. \n",
    "오래 보아야 사랑스럽다. \n",
    "너도 그렇다.\"\"\"\n",
    "print(s1)"
   ]
  },
  {
   "cell_type": "code",
   "execution_count": 54,
   "id": "3fa4be45",
   "metadata": {},
   "outputs": [
    {
     "name": "stdout",
     "output_type": "stream",
     "text": [
      "n\n",
      "i\n",
      "i\n"
     ]
    }
   ],
   "source": [
    "s = 'My name is SH'\n",
    "print(s[3])\n",
    "#i를 가져와라 인덱싱\n",
    "print(s[8])\n",
    "print(s[-5])"
   ]
  },
  {
   "cell_type": "code",
   "execution_count": 65,
   "id": "2073d468",
   "metadata": {},
   "outputs": [
    {
     "name": "stdout",
     "output_type": "stream",
     "text": [
      "SH\n",
      "name\n",
      "\n",
      "name\n",
      "\n",
      "My name is SH\n"
     ]
    }
   ],
   "source": [
    "#SH 가져오기\n",
    "print(s[11:13])\n",
    "#name 가져오기!\n",
    "print(s[3:7])\n",
    "print(s[7:3]) # 순서 안맞으면 출력x\n",
    "#뒤에서부터 읽기\n",
    "print(s[-10:-6])\n",
    "print(s[-6:-10]) # 순서 안맞으면 출력x\n",
    "#전체 문자열 읽기\n",
    "print(s[:])"
   ]
  },
  {
   "cell_type": "code",
   "execution_count": 66,
   "id": "4b2579e5",
   "metadata": {
    "scrolled": true
   },
   "outputs": [
    {
     "name": "stdout",
     "output_type": "stream",
     "text": [
      "ni\n"
     ]
    }
   ],
   "source": [
    "print(s[3]+s[8])"
   ]
  },
  {
   "cell_type": "code",
   "execution_count": 67,
   "id": "074c2d35",
   "metadata": {},
   "outputs": [
    {
     "name": "stdout",
     "output_type": "stream",
     "text": [
      "SH\n"
     ]
    }
   ],
   "source": [
    "print(s[11:])"
   ]
  },
  {
   "cell_type": "code",
   "execution_count": 77,
   "id": "21386475",
   "metadata": {},
   "outputs": [
    {
     "name": "stdout",
     "output_type": "stream",
     "text": [
      "날짜: 2021년 12월 21일\n",
      "날씨: 맑음\n",
      "날씨: 맑음\n"
     ]
    }
   ],
   "source": [
    "day = '2021년 12월 21일의 날씨는 맑음입니다.'\n",
    "#날짜 : 2021년 12월 21일\n",
    "#날씨 :맑음\n",
    "print('날짜:',day[:13])\n",
    "print('날씨:', day[19:21])\n",
    "print('날씨:', day[-6:-4])"
   ]
  },
  {
   "cell_type": "code",
   "execution_count": 2,
   "id": "79074511",
   "metadata": {
    "scrolled": true
   },
   "outputs": [
    {
     "name": "stdout",
     "output_type": "stream",
     "text": [
      "0\n",
      "1\n",
      "2\n",
      "3\n",
      "4\n",
      "5\n",
      "6\n",
      "7\n",
      "8\n",
      "9\n",
      "10\n"
     ]
    }
   ],
   "source": [
    "for i in range(11):\n",
    "    print(i)"
   ]
  },
  {
   "cell_type": "code",
   "execution_count": 86,
   "id": "64fc2b69",
   "metadata": {
    "scrolled": true
   },
   "outputs": [
    {
     "ename": "SyntaxError",
     "evalue": "invalid syntax (Temp/ipykernel_5960/2350246545.py, line 1)",
     "output_type": "error",
     "traceback": [
      "\u001b[1;36m  File \u001b[1;32m\"C:\\Users\\smhrd\\AppData\\Local\\Temp/ipykernel_5960/2350246545.py\"\u001b[1;36m, line \u001b[1;32m1\u001b[0m\n\u001b[1;33m    ss = 2021f+'년'\u001b[0m\n\u001b[1;37m             ^\u001b[0m\n\u001b[1;31mSyntaxError\u001b[0m\u001b[1;31m:\u001b[0m invalid syntax\n"
     ]
    }
   ],
   "source": [
    "ss = 2021+'년'\n",
    "print(ss)"
   ]
  },
  {
   "cell_type": "code",
   "execution_count": 98,
   "id": "8cbdb4c3",
   "metadata": {},
   "outputs": [
    {
     "name": "stdout",
     "output_type": "stream",
     "text": [
      "오늘은 12월 21일 입니다.\n"
     ]
    }
   ],
   "source": [
    "#오늘은 12월 21일 입니다.\n",
    "day = 21\n",
    "sss = '오늘은 12월 %d일 입니다.'%day\n",
    "print(sss)"
   ]
  },
  {
   "cell_type": "code",
   "execution_count": 102,
   "id": "d3fe73f0",
   "metadata": {},
   "outputs": [
    {
     "name": "stdout",
     "output_type": "stream",
     "text": [
      "오늘은 12월 21일 입니다.\n"
     ]
    }
   ],
   "source": [
    "b = '오늘은 12월 {}일 입니다.'.format(day)\n",
    "print(b)"
   ]
  },
  {
   "cell_type": "code",
   "execution_count": 104,
   "id": "133d917b",
   "metadata": {},
   "outputs": [
    {
     "name": "stdout",
     "output_type": "stream",
     "text": [
      "오늘은 12월 21일입니다.\n"
     ]
    }
   ],
   "source": [
    "s = f'오늘은 12월 {day}일입니다.'\n",
    "print(s)"
   ]
  },
  {
   "cell_type": "code",
   "execution_count": 109,
   "id": "a1247970",
   "metadata": {},
   "outputs": [
    {
     "name": "stdout",
     "output_type": "stream",
     "text": [
      "100와 200의 합은 300입니다.\n",
      "100와 200의 합은 300입니다.\n",
      "100와 200의 합은 300입니다.\n"
     ]
    }
   ],
   "source": [
    "x = 100\n",
    "y = 200\n",
    "sum2 = x+y\n",
    "print('{}와 {}의 합은 {}입니다.'.format(x,y,sum2))\n",
    "print(f'{x}와 {y}의 합은 {sum2}입니다.')\n",
    "print('%d와 %d의 합은 %d입니다.'%(x,y,sum2))"
   ]
  },
  {
   "attachments": {
    "image.png": {
     "image/png": "[encoded data removed]"
    }
   },
   "cell_type": "markdown",
   "id": "e2882aa1",
   "metadata": {},
   "source": [
    "![image.png](attachment:image.png)"
   ]
  },
  {
   "cell_type": "markdown",
   "id": "eb708c13",
   "metadata": {},
   "source": [
    "# 산술연산자"
   ]
  },
  {
   "cell_type": "code",
   "execution_count": 111,
   "id": "6a5fbbdb",
   "metadata": {},
   "outputs": [
    {
     "name": "stdout",
     "output_type": "stream",
     "text": [
      "1.4285714285714286\n",
      "3\n",
      "1\n"
     ]
    }
   ],
   "source": [
    "num1 = 10\n",
    "num2 = 7\n",
    "#나누기\n",
    "print(num1/num2)\n",
    "#나머지\n",
    "print(num1%num2)\n",
    "#몫\n",
    "print(num1//num2)"
   ]
  },
  {
   "cell_type": "code",
   "execution_count": 112,
   "id": "d85eb90a",
   "metadata": {},
   "outputs": [
    {
     "name": "stdout",
     "output_type": "stream",
     "text": [
      "17\n"
     ]
    }
   ],
   "source": [
    "print(num1+num2)"
   ]
  },
  {
   "cell_type": "code",
   "execution_count": 113,
   "id": "7b9c7028",
   "metadata": {},
   "outputs": [
    {
     "name": "stdout",
     "output_type": "stream",
     "text": [
      "안녕하세요\n"
     ]
    }
   ],
   "source": [
    "str1 = \"안녕\"\n",
    "str2 = \"하세요\"\n",
    "print(str1+str2)"
   ]
  },
  {
   "cell_type": "code",
   "execution_count": 115,
   "id": "161e67d0",
   "metadata": {},
   "outputs": [
    {
     "name": "stdout",
     "output_type": "stream",
     "text": [
      "17\n",
      "107\n"
     ]
    }
   ],
   "source": [
    "str1 = \"10\"\n",
    "num3 = 7\n",
    "print(int(str1)+num3)\n",
    "print(str1+str(num3))"
   ]
  },
  {
   "cell_type": "code",
   "execution_count": 128,
   "id": "99201446",
   "metadata": {},
   "outputs": [
    {
     "name": "stdout",
     "output_type": "stream",
     "text": [
      "더하기 결과 : 26\n",
      "빼기 결과 : 20\n",
      "곱하기 결과 : 69\n",
      "나하기 결과 : 7.666666666666667\n",
      "\n",
      "더하기 결과 : 26\n",
      "빼기 결과 : 20\n",
      "곱하기 결과 : 69\n",
      "나하기 결과 : 7.666667\n"
     ]
    }
   ],
   "source": [
    "num1 = 23\n",
    "num2 = 3\n",
    "print('더하기 결과 :', num1+num2)\n",
    "print('빼기 결과 :', num1-num2)\n",
    "print('곱하기 결과 :', num1*num2)\n",
    "print('나하기 결과 :', num1/num2)\n",
    "print()\n",
    "print('더하기 결과 : %d'%(num1+num2))\n",
    "print('빼기 결과 : %d'%(num1-num2))\n",
    "print('곱하기 결과 : %d'%(num1*num2))\n",
    "print('나하기 결과 : %f'%(num1/num2))"
   ]
  },
  {
   "cell_type": "markdown",
   "id": "67fb5fbe",
   "metadata": {},
   "source": [
    "# 키보드로 입력받아서 연산 진행!"
   ]
  },
  {
   "cell_type": "markdown",
   "id": "dd9a5b2f",
   "metadata": {},
   "source": [
    "### input()함수 사용"
   ]
  },
  {
   "cell_type": "code",
   "execution_count": 129,
   "id": "4bb294c1",
   "metadata": {},
   "outputs": [
    {
     "name": "stdout",
     "output_type": "stream",
     "text": [
      "승훈\n"
     ]
    }
   ],
   "source": [
    "name = input()"
   ]
  },
  {
   "cell_type": "code",
   "execution_count": 130,
   "id": "1fcbb1e9",
   "metadata": {},
   "outputs": [
    {
     "name": "stdout",
     "output_type": "stream",
     "text": [
      "승훈\n"
     ]
    }
   ],
   "source": [
    "print(name)"
   ]
  },
  {
   "cell_type": "code",
   "execution_count": 135,
   "id": "34fe1a31",
   "metadata": {},
   "outputs": [
    {
     "name": "stdout",
     "output_type": "stream",
     "text": [
      "정수를 입력하세요 >> 3\n",
      "3\n"
     ]
    }
   ],
   "source": [
    "num = int(input(\"정수를 입력하세요 >> \"))\n",
    "print(num)"
   ]
  },
  {
   "cell_type": "code",
   "execution_count": 136,
   "id": "86a270cc",
   "metadata": {},
   "outputs": [
    {
     "data": {
      "text/plain": [
       "int"
      ]
     },
     "execution_count": 136,
     "metadata": {},
     "output_type": "execute_result"
    }
   ],
   "source": [
    "type(num)"
   ]
  },
  {
   "cell_type": "code",
   "execution_count": 142,
   "id": "f072b888",
   "metadata": {
    "scrolled": true
   },
   "outputs": [
    {
     "name": "stdout",
     "output_type": "stream",
     "text": [
      "num1 >> 23\n",
      "num2 >> 3\n",
      "더하기 결과 : 26\n",
      "빼기 결과 : 20\n",
      "곱하기 결과 : 69\n",
      "나하기 결과 : 7.666666666666667\n",
      "\n",
      "더하기 결과 : 26\n",
      "빼기 결과 : 20\n",
      "곱하기 결과 : 69\n",
      "나하기 결과 : 7.666667\n"
     ]
    }
   ],
   "source": [
    "num1 = int(input('num1 >> '))\n",
    "num2 = int(input('num2 >> '))\n",
    "print('더하기 결과 :', num1+num2)\n",
    "print('빼기 결과 :', num1-num2)\n",
    "print('곱하기 결과 :', num1*num2)\n",
    "print('나하기 결과 :', num1/num2)\n",
    "print()\n",
    "print('더하기 결과 : %d'%(num1+num2))\n",
    "print('빼기 결과 : %d'%(num1-num2))\n",
    "print('곱하기 결과 : %d'%(num1*num2))\n",
    "print('나하기 결과 : %f'%(num1/num2))"
   ]
  },
  {
   "cell_type": "code",
   "execution_count": 145,
   "id": "2e9d3384",
   "metadata": {
    "scrolled": false
   },
   "outputs": [
    {
     "name": "stdout",
     "output_type": "stream",
     "text": [
      "python 점수 입력 >> 100\n",
      "머신러닝 점수 입력 >> 80\n",
      "딥러닝 점수 입력 >> 60\n",
      "합계 : 240\n",
      "평균 : 80.0\n",
      "\n",
      "합계 :240\n",
      "평균 :80.0\n"
     ]
    }
   ],
   "source": [
    "python = int(input('python 점수 입력 >> '))\n",
    "machine= int(input('머신러닝 점수 입력 >> '))\n",
    "deep = int(input('딥러닝 점수 입력 >> '))\n",
    "sum = python + machine + deep\n",
    "print('합계 :', sum)\n",
    "print('평균 :', (sum/3))\n",
    "print()\n",
    "print('합계 :{}'.format(sum))\n",
    "print('평균 :{}'.format(sum/3))\n"
   ]
  },
  {
   "cell_type": "markdown",
   "id": "b4e6e3ed",
   "metadata": {},
   "source": [
    "### 지수연산자(**)"
   ]
  },
  {
   "cell_type": "code",
   "execution_count": 147,
   "id": "cc76568d",
   "metadata": {},
   "outputs": [
    {
     "name": "stdout",
     "output_type": "stream",
     "text": [
      "9\n"
     ]
    }
   ],
   "source": [
    "num = 3\n",
    "power = 2\n",
    "print(num**power)"
   ]
  },
  {
   "cell_type": "code",
   "execution_count": 148,
   "id": "5bf1749e",
   "metadata": {},
   "outputs": [],
   "source": [
    "a=3\n",
    "b=7"
   ]
  },
  {
   "cell_type": "code",
   "execution_count": 151,
   "id": "4e7918f3",
   "metadata": {},
   "outputs": [
    {
     "name": "stdout",
     "output_type": "stream",
     "text": [
      "7\n",
      "3\n"
     ]
    }
   ],
   "source": [
    "temp =a\n",
    "a=b\n",
    "b=temp\n",
    "print(a)\n",
    "print(b)"
   ]
  },
  {
   "cell_type": "code",
   "execution_count": 156,
   "id": "012bf0c7",
   "metadata": {},
   "outputs": [
    {
     "name": "stdout",
     "output_type": "stream",
     "text": [
      "3\n",
      "7\n"
     ]
    }
   ],
   "source": [
    "a,b = b,a\n",
    "print(a)\n",
    "print(b)"
   ]
  },
  {
   "cell_type": "markdown",
   "id": "f28afa14",
   "metadata": {},
   "source": [
    "### 논리연산자"
   ]
  },
  {
   "cell_type": "code",
   "execution_count": null,
   "id": "7858af2f",
   "metadata": {},
   "outputs": [],
   "source": [
    "#not, and, or"
   ]
  },
  {
   "cell_type": "code",
   "execution_count": 158,
   "id": "8e6ede98",
   "metadata": {},
   "outputs": [
    {
     "name": "stdout",
     "output_type": "stream",
     "text": [
      "True\n"
     ]
    },
    {
     "data": {
      "text/plain": [
       "False"
      ]
     },
     "execution_count": 158,
     "metadata": {},
     "output_type": "execute_result"
    }
   ],
   "source": [
    "a=1\n",
    "b=5\n",
    "print(a<b)\n",
    "not a<b\n"
   ]
  },
  {
   "cell_type": "code",
   "execution_count": 161,
   "id": "0e916a84",
   "metadata": {},
   "outputs": [
    {
     "name": "stdout",
     "output_type": "stream",
     "text": [
      "1\n"
     ]
    }
   ],
   "source": [
    "print(a)\n",
    "a\n",
    "b"
   ]
  },
  {
   "cell_type": "code",
   "execution_count": null,
   "id": "f3c8550b",
   "metadata": {},
   "outputs": [],
   "source": [
    "x=100\n",
    "y=200\n",
    "sum2=x+y\n",
    "print('{}와 {}의 합은 {}입니다.'.format(x,y,sum2))\n",
    "print(f'{x}와 {y}의 합은 {sum2}입니다.')\n",
    "print('%d와 %d의 합은 %d입니다.' %(x,y,sum2))"
   ]
  },
  {
   "cell_type": "code",
   "execution_count": null,
   "id": "a2bbf15a",
   "metadata": {},
   "outputs": [],
   "source": []
  },
  {
   "cell_type": "code",
   "execution_count": null,
   "id": "9085d937",
   "metadata": {},
   "outputs": [],
   "source": []
  },
  {
   "cell_type": "code",
   "execution_count": null,
   "id": "59e937cc",
   "metadata": {},
   "outputs": [],
   "source": []
  },
  {
   "cell_type": "code",
   "execution_count": null,
   "id": "4c569b6d",
   "metadata": {},
   "outputs": [],
   "source": []
  }
 ],
 "metadata": {
  "kernelspec": {
   "display_name": "Python 3 (ipykernel)",
   "language": "python",
   "name": "python3"
  },
  "language_info": {
   "codemirror_mode": {
    "name": "ipython",
    "version": 3
   },
   "file_extension": ".py",
   "mimetype": "text/x-python",
   "name": "python",
   "nbconvert_exporter": "python",
   "pygments_lexer": "ipython3",
   "version": "3.9.7"
  }
 },
 "nbformat": 4,
 "nbformat_minor": 5
}
